{
 "cells": [
  {
   "cell_type": "markdown",
   "id": "3101dc5e-3ff2-4077-b358-dafa382a0a23",
   "metadata": {},
   "source": [
    "## Ecommerce Data\n",
    "Christina Song\n",
    "EDA"
   ]
  },
  {
   "cell_type": "code",
   "execution_count": 1,
   "id": "cc82e368-76e3-4f7b-9200-d8366ecd2c42",
   "metadata": {
    "tags": []
   },
   "outputs": [],
   "source": [
    "import pandas as pd\n",
    "import numpy as np\n",
    "import matplotlib.pyplot as plt\n",
    "import seaborn as sns\n",
    "import datetime as dt\n",
    "import warnings\n",
    "import re\n",
    "warnings.filterwarnings(\"ignore\")"
   ]
  },
  {
   "cell_type": "markdown",
   "id": "fb278ee5-69ca-4a44-b7f4-1a069b485c2a",
   "metadata": {},
   "source": [
    "### Basic Data Exploration"
   ]
  },
  {
   "cell_type": "code",
   "execution_count": 2,
   "id": "7b5acd92-23d0-468a-802d-f5bf6fe21061",
   "metadata": {
    "tags": []
   },
   "outputs": [],
   "source": [
    "ecom = pd.read_excel('Ecommerce data.xlsx')"
   ]
  },
  {
   "cell_type": "markdown",
   "id": "1a28c662-4b48-4e3e-a925-92a76e7db7c7",
   "metadata": {},
   "source": [
    "### Variables\n",
    "\n",
    "There are 33K records for an online book seller.\n",
    "\n",
    "\n",
    "|   Variable   |  Description  |\n",
    "| :----------- | :------------ |\n",
    "| id | individual customer id |\n",
    "| logtarg | ? |\n",
    "| r | recency, smaller number most recent |\n",
    "| f | frequency, higher number is more shopped |\n",
    "| m | monetary, higher number is more $ spent |\n",
    "| tof | time on file, higher number is longer customer |\n",
    "| F_ | count variables |\n",
    "| M_ | amount in $$  |\n"
   ]
  },
  {
   "cell_type": "code",
   "execution_count": 3,
   "id": "8684794f-aa6a-4cef-98e9-fc7975ff84a3",
   "metadata": {
    "tags": []
   },
   "outputs": [
    {
     "data": {
      "text/html": [
       "<div>\n",
       "<style scoped>\n",
       "    .dataframe tbody tr th:only-of-type {\n",
       "        vertical-align: middle;\n",
       "    }\n",
       "\n",
       "    .dataframe tbody tr th {\n",
       "        vertical-align: top;\n",
       "    }\n",
       "\n",
       "    .dataframe thead th {\n",
       "        text-align: right;\n",
       "    }\n",
       "</style>\n",
       "<table border=\"1\" class=\"dataframe\">\n",
       "  <thead>\n",
       "    <tr style=\"text-align: right;\">\n",
       "      <th></th>\n",
       "      <th>id</th>\n",
       "      <th>logtarg</th>\n",
       "      <th>r</th>\n",
       "      <th>f</th>\n",
       "      <th>m</th>\n",
       "      <th>tof</th>\n",
       "      <th>Ffiction1</th>\n",
       "      <th>Fclassics3</th>\n",
       "      <th>Fcartoons5</th>\n",
       "      <th>Flegends6</th>\n",
       "      <th>...</th>\n",
       "      <th>MGamesRiddles38</th>\n",
       "      <th>Msports39</th>\n",
       "      <th>Mhobby40</th>\n",
       "      <th>Mnature41</th>\n",
       "      <th>Mencyclopaedia44</th>\n",
       "      <th>Mvideos50</th>\n",
       "      <th>Mnonbooks99</th>\n",
       "      <th>Unnamed: 66</th>\n",
       "      <th>Unnamed: 67</th>\n",
       "      <th>Dear Greg,</th>\n",
       "    </tr>\n",
       "  </thead>\n",
       "  <tbody>\n",
       "    <tr>\n",
       "      <th>0</th>\n",
       "      <td>914</td>\n",
       "      <td>NaN</td>\n",
       "      <td>194</td>\n",
       "      <td>7</td>\n",
       "      <td>318.894775</td>\n",
       "      <td>1703</td>\n",
       "      <td>1</td>\n",
       "      <td>0</td>\n",
       "      <td>1</td>\n",
       "      <td>0</td>\n",
       "      <td>...</td>\n",
       "      <td>0.0</td>\n",
       "      <td>0.0</td>\n",
       "      <td>0.000000</td>\n",
       "      <td>0.000000</td>\n",
       "      <td>0.0</td>\n",
       "      <td>0.000000</td>\n",
       "      <td>0.0</td>\n",
       "      <td>NaN</td>\n",
       "      <td>NaN</td>\n",
       "      <td>NaN</td>\n",
       "    </tr>\n",
       "    <tr>\n",
       "      <th>1</th>\n",
       "      <td>957</td>\n",
       "      <td>NaN</td>\n",
       "      <td>3</td>\n",
       "      <td>14</td>\n",
       "      <td>368.052246</td>\n",
       "      <td>2364</td>\n",
       "      <td>1</td>\n",
       "      <td>0</td>\n",
       "      <td>2</td>\n",
       "      <td>0</td>\n",
       "      <td>...</td>\n",
       "      <td>0.0</td>\n",
       "      <td>0.0</td>\n",
       "      <td>61.176025</td>\n",
       "      <td>17.150269</td>\n",
       "      <td>10.0</td>\n",
       "      <td>0.000000</td>\n",
       "      <td>0.0</td>\n",
       "      <td>NaN</td>\n",
       "      <td>NaN</td>\n",
       "      <td>I wanted to find something that the students c...</td>\n",
       "    </tr>\n",
       "    <tr>\n",
       "      <th>2</th>\n",
       "      <td>1406</td>\n",
       "      <td>NaN</td>\n",
       "      <td>1489</td>\n",
       "      <td>15</td>\n",
       "      <td>423.298340</td>\n",
       "      <td>2371</td>\n",
       "      <td>0</td>\n",
       "      <td>0</td>\n",
       "      <td>0</td>\n",
       "      <td>0</td>\n",
       "      <td>...</td>\n",
       "      <td>0.0</td>\n",
       "      <td>0.0</td>\n",
       "      <td>0.000000</td>\n",
       "      <td>0.000000</td>\n",
       "      <td>0.0</td>\n",
       "      <td>0.000000</td>\n",
       "      <td>0.0</td>\n",
       "      <td>NaN</td>\n",
       "      <td>NaN</td>\n",
       "      <td>NaN</td>\n",
       "    </tr>\n",
       "    <tr>\n",
       "      <th>3</th>\n",
       "      <td>1414</td>\n",
       "      <td>NaN</td>\n",
       "      <td>155</td>\n",
       "      <td>4</td>\n",
       "      <td>71.217041</td>\n",
       "      <td>1290</td>\n",
       "      <td>0</td>\n",
       "      <td>0</td>\n",
       "      <td>0</td>\n",
       "      <td>0</td>\n",
       "      <td>...</td>\n",
       "      <td>0.0</td>\n",
       "      <td>0.0</td>\n",
       "      <td>0.000000</td>\n",
       "      <td>0.000000</td>\n",
       "      <td>0.0</td>\n",
       "      <td>0.000000</td>\n",
       "      <td>0.0</td>\n",
       "      <td>NaN</td>\n",
       "      <td>NaN</td>\n",
       "      <td>I have data from American Science and Surplus,...</td>\n",
       "    </tr>\n",
       "    <tr>\n",
       "      <th>4</th>\n",
       "      <td>1546</td>\n",
       "      <td>NaN</td>\n",
       "      <td>194</td>\n",
       "      <td>6</td>\n",
       "      <td>442.638184</td>\n",
       "      <td>2188</td>\n",
       "      <td>0</td>\n",
       "      <td>0</td>\n",
       "      <td>1</td>\n",
       "      <td>0</td>\n",
       "      <td>...</td>\n",
       "      <td>0.0</td>\n",
       "      <td>0.0</td>\n",
       "      <td>17.895203</td>\n",
       "      <td>0.000000</td>\n",
       "      <td>0.0</td>\n",
       "      <td>61.799988</td>\n",
       "      <td>0.0</td>\n",
       "      <td>NaN</td>\n",
       "      <td>NaN</td>\n",
       "      <td>NaN</td>\n",
       "    </tr>\n",
       "  </tbody>\n",
       "</table>\n",
       "<p>5 rows × 69 columns</p>\n",
       "</div>"
      ],
      "text/plain": [
       "     id  logtarg     r   f           m   tof  Ffiction1  Fclassics3  \\\n",
       "0   914      NaN   194   7  318.894775  1703          1           0   \n",
       "1   957      NaN     3  14  368.052246  2364          1           0   \n",
       "2  1406      NaN  1489  15  423.298340  2371          0           0   \n",
       "3  1414      NaN   155   4   71.217041  1290          0           0   \n",
       "4  1546      NaN   194   6  442.638184  2188          0           0   \n",
       "\n",
       "   Fcartoons5  Flegends6  ...  MGamesRiddles38  Msports39   Mhobby40  \\\n",
       "0           1          0  ...              0.0        0.0   0.000000   \n",
       "1           2          0  ...              0.0        0.0  61.176025   \n",
       "2           0          0  ...              0.0        0.0   0.000000   \n",
       "3           0          0  ...              0.0        0.0   0.000000   \n",
       "4           1          0  ...              0.0        0.0  17.895203   \n",
       "\n",
       "   Mnature41  Mencyclopaedia44  Mvideos50  Mnonbooks99  Unnamed: 66  \\\n",
       "0   0.000000               0.0   0.000000          0.0          NaN   \n",
       "1  17.150269              10.0   0.000000          0.0          NaN   \n",
       "2   0.000000               0.0   0.000000          0.0          NaN   \n",
       "3   0.000000               0.0   0.000000          0.0          NaN   \n",
       "4   0.000000               0.0  61.799988          0.0          NaN   \n",
       "\n",
       "   Unnamed: 67                                         Dear Greg,  \n",
       "0          NaN                                                NaN  \n",
       "1          NaN  I wanted to find something that the students c...  \n",
       "2          NaN                                                NaN  \n",
       "3          NaN  I have data from American Science and Surplus,...  \n",
       "4          NaN                                                NaN  \n",
       "\n",
       "[5 rows x 69 columns]"
      ]
     },
     "execution_count": 3,
     "metadata": {},
     "output_type": "execute_result"
    }
   ],
   "source": [
    "ecom.head()"
   ]
  },
  {
   "cell_type": "markdown",
   "id": "7961af97-ce27-468d-8cdf-b2ebfda9eaa0",
   "metadata": {},
   "source": [
    "### Data Cleaning"
   ]
  },
  {
   "cell_type": "code",
   "execution_count": 4,
   "id": "f0602cf3-6dc4-4e12-a047-4c2b9b1ef15b",
   "metadata": {
    "tags": []
   },
   "outputs": [],
   "source": [
    "ecom = ecom.drop(columns = ['Unnamed: 66', 'Unnamed: 67', 'Dear Greg,'])"
   ]
  },
  {
   "cell_type": "code",
   "execution_count": 5,
   "id": "2c5c656a-c9c3-4935-9359-1035d241de39",
   "metadata": {
    "tags": []
   },
   "outputs": [
    {
     "name": "stdout",
     "output_type": "stream",
     "text": [
      "<class 'pandas.core.frame.DataFrame'>\n",
      "RangeIndex: 33713 entries, 0 to 33712\n",
      "Data columns (total 66 columns):\n",
      " #   Column            Non-Null Count  Dtype  \n",
      "---  ------            --------------  -----  \n",
      " 0   id                33713 non-null  int64  \n",
      " 1   logtarg           8311 non-null   float64\n",
      " 2   r                 33713 non-null  int64  \n",
      " 3   f                 33713 non-null  int64  \n",
      " 4   m                 33713 non-null  float64\n",
      " 5   tof               33713 non-null  int64  \n",
      " 6   Ffiction1         33713 non-null  int64  \n",
      " 7   Fclassics3        33713 non-null  int64  \n",
      " 8   Fcartoons5        33713 non-null  int64  \n",
      " 9   Flegends6         33713 non-null  int64  \n",
      " 10  Fphilosophy7      33713 non-null  int64  \n",
      " 11  Freligion8        33713 non-null  int64  \n",
      " 12  Fpsychology9      33713 non-null  int64  \n",
      " 13  Flinguistics10    33713 non-null  int64  \n",
      " 14  Fart12            33713 non-null  int64  \n",
      " 15  Fmusic14          33713 non-null  int64  \n",
      " 16  Ffacsimile17      33713 non-null  int64  \n",
      " 17  Fhistory19        33713 non-null  int64  \n",
      " 18  Fconthist20       33713 non-null  int64  \n",
      " 19  Feconomy21        33713 non-null  int64  \n",
      " 20  Fpolitics22       33713 non-null  int64  \n",
      " 21  Fscience23        33713 non-null  int64  \n",
      " 22  Fcompsci26        33713 non-null  int64  \n",
      " 23  Frailroads27      33713 non-null  int64  \n",
      " 24  Fmaps30           33713 non-null  int64  \n",
      " 25  Ftravelguides31   33713 non-null  int64  \n",
      " 26  Fhealth35         33713 non-null  int64  \n",
      " 27  Fcooking36        33713 non-null  int64  \n",
      " 28  Flearning37       33713 non-null  int64  \n",
      " 29  FGamesRiddles38   33713 non-null  int64  \n",
      " 30  Fsports39         33713 non-null  int64  \n",
      " 31  Fhobby40          33713 non-null  int64  \n",
      " 32  Fnature41         33713 non-null  int64  \n",
      " 33  Fencyclopaedia44  33713 non-null  int64  \n",
      " 34  Fvideos50         33713 non-null  int64  \n",
      " 35  Fnonbooks99       33713 non-null  int64  \n",
      " 36  Mfiction1         33713 non-null  float64\n",
      " 37  Mclassics3        33713 non-null  float64\n",
      " 38  Mcartoons5        33713 non-null  float64\n",
      " 39  Mlegends6         33713 non-null  float64\n",
      " 40  Mphilosophy7      33713 non-null  float64\n",
      " 41  Mreligion8        33713 non-null  float64\n",
      " 42  Mpsychology9      33713 non-null  float64\n",
      " 43  Mlinguistics10    33713 non-null  float64\n",
      " 44  Mart12            33713 non-null  float64\n",
      " 45  Mmusic14          33713 non-null  float64\n",
      " 46  Mfacsimile17      33713 non-null  float64\n",
      " 47  Mhistory19        33713 non-null  float64\n",
      " 48  Mconthist20       33713 non-null  float64\n",
      " 49  Meconomy21        33713 non-null  float64\n",
      " 50  Mpolitics22       33713 non-null  float64\n",
      " 51  Mscience23        33713 non-null  float64\n",
      " 52  Mcompsci26        33713 non-null  float64\n",
      " 53  Mrailroads27      33713 non-null  float64\n",
      " 54  Mmaps30           33713 non-null  float64\n",
      " 55  Mtravelguides31   33713 non-null  float64\n",
      " 56  Mhealth35         33713 non-null  float64\n",
      " 57  Mcooking36        33713 non-null  float64\n",
      " 58  Mlearning37       33713 non-null  float64\n",
      " 59  MGamesRiddles38   33713 non-null  float64\n",
      " 60  Msports39         33713 non-null  float64\n",
      " 61  Mhobby40          33713 non-null  float64\n",
      " 62  Mnature41         33713 non-null  float64\n",
      " 63  Mencyclopaedia44  33713 non-null  float64\n",
      " 64  Mvideos50         33713 non-null  float64\n",
      " 65  Mnonbooks99       33713 non-null  float64\n",
      "dtypes: float64(32), int64(34)\n",
      "memory usage: 17.0 MB\n"
     ]
    }
   ],
   "source": [
    "ecom.info()"
   ]
  },
  {
   "cell_type": "markdown",
   "id": "66fd31b5-416b-4691-b6b5-d4487a2e9b74",
   "metadata": {},
   "source": [
    "Almost all of logtarg variable is null (only 24% of the dataset has non-null values). We can decide to drop the logtarg variable. "
   ]
  },
  {
   "cell_type": "code",
   "execution_count": 6,
   "id": "4cfc1ecd-fad3-4daa-86d1-20aa7a5cf665",
   "metadata": {
    "tags": []
   },
   "outputs": [
    {
     "data": {
      "text/plain": [
       "id                  0\n",
       "r                   0\n",
       "f                   0\n",
       "m                   0\n",
       "tof                 0\n",
       "                   ..\n",
       "Mhobby40            0\n",
       "Mnature41           0\n",
       "Mencyclopaedia44    0\n",
       "Mvideos50           0\n",
       "Mnonbooks99         0\n",
       "Length: 65, dtype: int64"
      ]
     },
     "execution_count": 6,
     "metadata": {},
     "output_type": "execute_result"
    }
   ],
   "source": [
    "if 'logtarg' in ecom:\n",
    "    ecom = ecom.drop(columns = ['logtarg'])\n",
    "ecom.isnull().sum()"
   ]
  },
  {
   "cell_type": "code",
   "execution_count": 7,
   "id": "f40de46d-9ef1-4220-a8d1-004fbc288338",
   "metadata": {
    "tags": []
   },
   "outputs": [
    {
     "data": {
      "text/plain": [
       "array([[<Axes: title={'center': 'r'}>, <Axes: title={'center': 'f'}>],\n",
       "       [<Axes: title={'center': 'm'}>, <Axes: title={'center': 'tof'}>]],\n",
       "      dtype=object)"
      ]
     },
     "execution_count": 7,
     "metadata": {},
     "output_type": "execute_result"
    },
    {
     "data": {
      "image/png": "[encoded data removed]",
      "text/plain": [
       "<Figure size 1000x800 with 4 Axes>"
      ]
     },
     "metadata": {},
     "output_type": "display_data"
    }
   ],
   "source": [
    "ecom[['r','f','m','tof']].hist(figsize=(10,8))\n"
   ]
  },
  {
   "cell_type": "code",
   "execution_count": 8,
   "id": "af74d490-60b9-46dc-9340-52173808ff9f",
   "metadata": {
    "tags": []
   },
   "outputs": [],
   "source": [
    "col = list(ecom.columns)\n",
    "def relabel_data(col):\n",
    "    for i in range(len(col)):\n",
    "        if col[i] == 'r':\n",
    "            col[i] = 'recency'\n",
    "        elif col[i] == 'f':\n",
    "            col[i] = 'overall_freq'\n",
    "        elif  col[i] == 'm':\n",
    "            col[i] = 'overall_mon'\n",
    "        elif  col[i] == 'tof':\n",
    "            col[i] = 'tof_days'\n",
    "        elif  col[i][0] == 'F':\n",
    "            col[i] = 'freq_' + col[i] [1:]\n",
    "            col[i] = re.sub(r'\\d+', ' books', col[i]) if 'nonbooks' not in col[i] else re.sub(r'\\d+', '', col[i])\n",
    "        elif  col[i][0] == 'M':\n",
    "            col[i] = 'monetary_' + col[i] [1:]\n",
    "            col[i] = re.sub(r'\\d+', ' books', col[i]) if 'nonbooks' not in col[i] else re.sub(r'\\d+', '', col[i])\n",
    "\n",
    "    return col\n",
    "            \n",
    "ecom.columns = relabel_data(col)  "
   ]
  },
  {
   "cell_type": "markdown",
   "id": "0fb5115e-b070-4883-b560-0a4a39a1b938",
   "metadata": {
    "tags": []
   },
   "source": [
    "## RFM Analysis\n",
    "https://www.kaggle.com/code/sarahm/customer-segmentation-using-rfm-analysis/notebook\n",
    "\n",
    "\"RFM (Recency, Frequency, Monetary) analysis is a customer segmentation technique that uses past purchase behavior to divide customers into groups. RFM helps divide customers into various categories or clusters to identify customers who are more likely to respond to promotions and also for future personalization services.\""
   ]
  },
  {
   "cell_type": "code",
   "execution_count": 9,
   "id": "5527fde9-c53e-4a48-94a5-b8b7f8ea1ab3",
   "metadata": {
    "tags": []
   },
   "outputs": [
    {
     "data": {
      "text/html": [
       "<div>\n",
       "<style scoped>\n",
       "    .dataframe tbody tr th:only-of-type {\n",
       "        vertical-align: middle;\n",
       "    }\n",
       "\n",
       "    .dataframe tbody tr th {\n",
       "        vertical-align: top;\n",
       "    }\n",
       "\n",
       "    .dataframe thead th {\n",
       "        text-align: right;\n",
       "    }\n",
       "</style>\n",
       "<table border=\"1\" class=\"dataframe\">\n",
       "  <thead>\n",
       "    <tr style=\"text-align: right;\">\n",
       "      <th></th>\n",
       "      <th>id</th>\n",
       "      <th>recency</th>\n",
       "      <th>overall_freq</th>\n",
       "      <th>overall_mon</th>\n",
       "      <th>tof_days</th>\n",
       "      <th>freq_fiction books</th>\n",
       "      <th>freq_classics books</th>\n",
       "      <th>freq_cartoons books</th>\n",
       "      <th>freq_legends books</th>\n",
       "      <th>freq_philosophy books</th>\n",
       "      <th>...</th>\n",
       "      <th>monetary_health books</th>\n",
       "      <th>monetary_cooking books</th>\n",
       "      <th>monetary_learning books</th>\n",
       "      <th>monetary_GamesRiddles books</th>\n",
       "      <th>monetary_sports books</th>\n",
       "      <th>monetary_hobby books</th>\n",
       "      <th>monetary_nature books</th>\n",
       "      <th>monetary_encyclopaedia books</th>\n",
       "      <th>monetary_videos books</th>\n",
       "      <th>monetary_nonbooks</th>\n",
       "    </tr>\n",
       "  </thead>\n",
       "  <tbody>\n",
       "    <tr>\n",
       "      <th>0</th>\n",
       "      <td>914</td>\n",
       "      <td>194</td>\n",
       "      <td>7</td>\n",
       "      <td>318.894775</td>\n",
       "      <td>1703</td>\n",
       "      <td>1</td>\n",
       "      <td>0</td>\n",
       "      <td>1</td>\n",
       "      <td>0</td>\n",
       "      <td>0</td>\n",
       "      <td>...</td>\n",
       "      <td>14.899994</td>\n",
       "      <td>10.174706</td>\n",
       "      <td>0.000000</td>\n",
       "      <td>0.0</td>\n",
       "      <td>0.0</td>\n",
       "      <td>0.000000</td>\n",
       "      <td>0.000000</td>\n",
       "      <td>0.0</td>\n",
       "      <td>0.000000</td>\n",
       "      <td>0.0</td>\n",
       "    </tr>\n",
       "    <tr>\n",
       "      <th>1</th>\n",
       "      <td>957</td>\n",
       "      <td>3</td>\n",
       "      <td>14</td>\n",
       "      <td>368.052246</td>\n",
       "      <td>2364</td>\n",
       "      <td>1</td>\n",
       "      <td>0</td>\n",
       "      <td>2</td>\n",
       "      <td>0</td>\n",
       "      <td>0</td>\n",
       "      <td>...</td>\n",
       "      <td>74.156250</td>\n",
       "      <td>0.000000</td>\n",
       "      <td>22.749985</td>\n",
       "      <td>0.0</td>\n",
       "      <td>0.0</td>\n",
       "      <td>61.176025</td>\n",
       "      <td>17.150269</td>\n",
       "      <td>10.0</td>\n",
       "      <td>0.000000</td>\n",
       "      <td>0.0</td>\n",
       "    </tr>\n",
       "    <tr>\n",
       "      <th>2</th>\n",
       "      <td>1406</td>\n",
       "      <td>1489</td>\n",
       "      <td>15</td>\n",
       "      <td>423.298340</td>\n",
       "      <td>2371</td>\n",
       "      <td>0</td>\n",
       "      <td>0</td>\n",
       "      <td>0</td>\n",
       "      <td>0</td>\n",
       "      <td>0</td>\n",
       "      <td>...</td>\n",
       "      <td>0.000000</td>\n",
       "      <td>0.000000</td>\n",
       "      <td>0.000000</td>\n",
       "      <td>0.0</td>\n",
       "      <td>0.0</td>\n",
       "      <td>0.000000</td>\n",
       "      <td>0.000000</td>\n",
       "      <td>0.0</td>\n",
       "      <td>0.000000</td>\n",
       "      <td>0.0</td>\n",
       "    </tr>\n",
       "    <tr>\n",
       "      <th>3</th>\n",
       "      <td>1414</td>\n",
       "      <td>155</td>\n",
       "      <td>4</td>\n",
       "      <td>71.217041</td>\n",
       "      <td>1290</td>\n",
       "      <td>0</td>\n",
       "      <td>0</td>\n",
       "      <td>0</td>\n",
       "      <td>0</td>\n",
       "      <td>0</td>\n",
       "      <td>...</td>\n",
       "      <td>0.000000</td>\n",
       "      <td>0.000000</td>\n",
       "      <td>0.000000</td>\n",
       "      <td>0.0</td>\n",
       "      <td>0.0</td>\n",
       "      <td>0.000000</td>\n",
       "      <td>0.000000</td>\n",
       "      <td>0.0</td>\n",
       "      <td>0.000000</td>\n",
       "      <td>0.0</td>\n",
       "    </tr>\n",
       "    <tr>\n",
       "      <th>4</th>\n",
       "      <td>1546</td>\n",
       "      <td>194</td>\n",
       "      <td>6</td>\n",
       "      <td>442.638184</td>\n",
       "      <td>2188</td>\n",
       "      <td>0</td>\n",
       "      <td>0</td>\n",
       "      <td>1</td>\n",
       "      <td>0</td>\n",
       "      <td>3</td>\n",
       "      <td>...</td>\n",
       "      <td>41.518219</td>\n",
       "      <td>0.000000</td>\n",
       "      <td>7.949997</td>\n",
       "      <td>0.0</td>\n",
       "      <td>0.0</td>\n",
       "      <td>17.895203</td>\n",
       "      <td>0.000000</td>\n",
       "      <td>0.0</td>\n",
       "      <td>61.799988</td>\n",
       "      <td>0.0</td>\n",
       "    </tr>\n",
       "  </tbody>\n",
       "</table>\n",
       "<p>5 rows × 65 columns</p>\n",
       "</div>"
      ],
      "text/plain": [
       "     id  recency  overall_freq  overall_mon  tof_days  freq_fiction books  \\\n",
       "0   914      194             7   318.894775      1703                   1   \n",
       "1   957        3            14   368.052246      2364                   1   \n",
       "2  1406     1489            15   423.298340      2371                   0   \n",
       "3  1414      155             4    71.217041      1290                   0   \n",
       "4  1546      194             6   442.638184      2188                   0   \n",
       "\n",
       "   freq_classics books  freq_cartoons books  freq_legends books  \\\n",
       "0                    0                    1                   0   \n",
       "1                    0                    2                   0   \n",
       "2                    0                    0                   0   \n",
       "3                    0                    0                   0   \n",
       "4                    0                    1                   0   \n",
       "\n",
       "   freq_philosophy books  ...  monetary_health books  monetary_cooking books  \\\n",
       "0                      0  ...              14.899994               10.174706   \n",
       "1                      0  ...              74.156250                0.000000   \n",
       "2                      0  ...               0.000000                0.000000   \n",
       "3                      0  ...               0.000000                0.000000   \n",
       "4                      3  ...              41.518219                0.000000   \n",
       "\n",
       "   monetary_learning books  monetary_GamesRiddles books  \\\n",
       "0                 0.000000                          0.0   \n",
       "1                22.749985                          0.0   \n",
       "2                 0.000000                          0.0   \n",
       "3                 0.000000                          0.0   \n",
       "4                 7.949997                          0.0   \n",
       "\n",
       "   monetary_sports books  monetary_hobby books  monetary_nature books  \\\n",
       "0                    0.0              0.000000               0.000000   \n",
       "1                    0.0             61.176025              17.150269   \n",
       "2                    0.0              0.000000               0.000000   \n",
       "3                    0.0              0.000000               0.000000   \n",
       "4                    0.0             17.895203               0.000000   \n",
       "\n",
       "   monetary_encyclopaedia books  monetary_videos books  monetary_nonbooks  \n",
       "0                           0.0               0.000000                0.0  \n",
       "1                          10.0               0.000000                0.0  \n",
       "2                           0.0               0.000000                0.0  \n",
       "3                           0.0               0.000000                0.0  \n",
       "4                           0.0              61.799988                0.0  \n",
       "\n",
       "[5 rows x 65 columns]"
      ]
     },
     "execution_count": 9,
     "metadata": {},
     "output_type": "execute_result"
    }
   ],
   "source": [
    "ecom.head()"
   ]
  },
  {
   "cell_type": "code",
   "execution_count": 10,
   "id": "2eb3d490-359f-4c16-bfa1-8a4de37ff39a",
   "metadata": {
    "tags": []
   },
   "outputs": [
    {
     "data": {
      "text/plain": [
       "<Axes: >"
      ]
     },
     "execution_count": 10,
     "metadata": {},
     "output_type": "execute_result"
    },
    {
     "data": {
      "image/png": "[encoded data removed]",
      "text/plain": [
       "<Figure size 640x480 with 1 Axes>"
      ]
     },
     "metadata": {},
     "output_type": "display_data"
    }
   ],
   "source": [
    "# select the columns for RFM\n",
    "ecom_num = ecom[['recency', 'overall_freq', 'overall_mon']]\n",
    "\n",
    "# let's check the distribution of the RFM values\n",
    "ecom_num.boxplot()"
   ]
  },
  {
   "cell_type": "markdown",
   "id": "85836e0f-e906-42ab-ae8f-407f41f3c5eb",
   "metadata": {},
   "source": [
    "### Drop the Outliers"
   ]
  },
  {
   "cell_type": "code",
   "execution_count": 11,
   "id": "018c6a80-2b10-432d-a389-5fe242177c20",
   "metadata": {
    "tags": []
   },
   "outputs": [],
   "source": [
    "# replacing outliers with null values\n",
    "# https://www.askpython.com/python/examples/detection-removal-outliers-in-python\n",
    "\n",
    "for x in ['overall_mon']:\n",
    "    q75, q25 = np.percentile(ecom.loc[:,x], [75, 25])\n",
    "    intr_qr = q75 - q25\n",
    "    \n",
    "    max = q75+(1.5*intr_qr)\n",
    "    min = q25-(1.5*intr_qr)\n",
    "    \n",
    "    ecom.loc[ecom[x] < min, x] = np.nan\n",
    "    ecom.loc[ecom[x] > max, x] = np.nan"
   ]
  },
  {
   "cell_type": "code",
   "execution_count": 12,
   "id": "0ca90ee1-d262-4a97-9b52-29c2ef17d62a",
   "metadata": {
    "tags": []
   },
   "outputs": [
    {
     "data": {
      "text/plain": [
       "id                                 0\n",
       "recency                            0\n",
       "overall_freq                       0\n",
       "overall_mon                     2915\n",
       "tof_days                           0\n",
       "                                ... \n",
       "monetary_hobby books               0\n",
       "monetary_nature books              0\n",
       "monetary_encyclopaedia books       0\n",
       "monetary_videos books              0\n",
       "monetary_nonbooks                  0\n",
       "Length: 65, dtype: int64"
      ]
     },
     "execution_count": 12,
     "metadata": {},
     "output_type": "execute_result"
    }
   ],
   "source": [
    "ecom.isnull().sum()"
   ]
  },
  {
   "cell_type": "code",
   "execution_count": 13,
   "id": "7c1b7552-2124-471c-a80c-a5b94293e43e",
   "metadata": {
    "tags": []
   },
   "outputs": [],
   "source": [
    "# drop the null values\n",
    "\n",
    "ecom = ecom.dropna(axis=0)"
   ]
  },
  {
   "cell_type": "code",
   "execution_count": 14,
   "id": "b028ced0-4c60-464a-8580-37bf4c013526",
   "metadata": {
    "tags": []
   },
   "outputs": [
    {
     "data": {
      "text/plain": [
       "id                              0\n",
       "recency                         0\n",
       "overall_freq                    0\n",
       "overall_mon                     0\n",
       "tof_days                        0\n",
       "                               ..\n",
       "monetary_hobby books            0\n",
       "monetary_nature books           0\n",
       "monetary_encyclopaedia books    0\n",
       "monetary_videos books           0\n",
       "monetary_nonbooks               0\n",
       "Length: 65, dtype: int64"
      ]
     },
     "execution_count": 14,
     "metadata": {},
     "output_type": "execute_result"
    }
   ],
   "source": [
    "ecom.isnull().sum()"
   ]
  },
  {
   "cell_type": "markdown",
   "id": "bff0502e-c4c7-4314-8409-7193b9b32ca8",
   "metadata": {},
   "source": [
    "### Set table for RFM"
   ]
  },
  {
   "cell_type": "code",
   "execution_count": 15,
   "id": "25ef5a1f-26c5-4ccd-ae30-60660949909e",
   "metadata": {
    "tags": []
   },
   "outputs": [
    {
     "data": {
      "text/html": [
       "<div>\n",
       "<style scoped>\n",
       "    .dataframe tbody tr th:only-of-type {\n",
       "        vertical-align: middle;\n",
       "    }\n",
       "\n",
       "    .dataframe tbody tr th {\n",
       "        vertical-align: top;\n",
       "    }\n",
       "\n",
       "    .dataframe thead th {\n",
       "        text-align: right;\n",
       "    }\n",
       "</style>\n",
       "<table border=\"1\" class=\"dataframe\">\n",
       "  <thead>\n",
       "    <tr style=\"text-align: right;\">\n",
       "      <th></th>\n",
       "      <th>recency</th>\n",
       "      <th>overall_freq</th>\n",
       "      <th>overall_mon</th>\n",
       "    </tr>\n",
       "    <tr>\n",
       "      <th>id</th>\n",
       "      <th></th>\n",
       "      <th></th>\n",
       "      <th></th>\n",
       "    </tr>\n",
       "  </thead>\n",
       "  <tbody>\n",
       "    <tr>\n",
       "      <th>914</th>\n",
       "      <td>194</td>\n",
       "      <td>7</td>\n",
       "      <td>318.894775</td>\n",
       "    </tr>\n",
       "    <tr>\n",
       "      <th>957</th>\n",
       "      <td>3</td>\n",
       "      <td>14</td>\n",
       "      <td>368.052246</td>\n",
       "    </tr>\n",
       "    <tr>\n",
       "      <th>1406</th>\n",
       "      <td>1489</td>\n",
       "      <td>15</td>\n",
       "      <td>423.298340</td>\n",
       "    </tr>\n",
       "    <tr>\n",
       "      <th>1414</th>\n",
       "      <td>155</td>\n",
       "      <td>4</td>\n",
       "      <td>71.217041</td>\n",
       "    </tr>\n",
       "    <tr>\n",
       "      <th>1546</th>\n",
       "      <td>194</td>\n",
       "      <td>6</td>\n",
       "      <td>442.638184</td>\n",
       "    </tr>\n",
       "  </tbody>\n",
       "</table>\n",
       "</div>"
      ],
      "text/plain": [
       "      recency  overall_freq  overall_mon\n",
       "id                                      \n",
       "914       194             7   318.894775\n",
       "957         3            14   368.052246\n",
       "1406     1489            15   423.298340\n",
       "1414      155             4    71.217041\n",
       "1546      194             6   442.638184"
      ]
     },
     "execution_count": 15,
     "metadata": {},
     "output_type": "execute_result"
    }
   ],
   "source": [
    "ecom_rfm = ecom[['id', 'recency', 'overall_freq', 'overall_mon']]\n",
    "ecom_rfm.set_index('id', inplace = True)\n",
    "ecom_rfm.head()"
   ]
  },
  {
   "cell_type": "markdown",
   "id": "53b91e7c-3c0e-455c-8a7f-b56d0d200155",
   "metadata": {},
   "source": [
    "### RFM Quantiles"
   ]
  },
  {
   "cell_type": "code",
   "execution_count": 16,
   "id": "e065a758-ca49-4aeb-b261-12451017caf1",
   "metadata": {
    "tags": []
   },
   "outputs": [
    {
     "data": {
      "text/html": [
       "<div>\n",
       "<style scoped>\n",
       "    .dataframe tbody tr th:only-of-type {\n",
       "        vertical-align: middle;\n",
       "    }\n",
       "\n",
       "    .dataframe tbody tr th {\n",
       "        vertical-align: top;\n",
       "    }\n",
       "\n",
       "    .dataframe thead th {\n",
       "        text-align: right;\n",
       "    }\n",
       "</style>\n",
       "<table border=\"1\" class=\"dataframe\">\n",
       "  <thead>\n",
       "    <tr style=\"text-align: right;\">\n",
       "      <th></th>\n",
       "      <th>recency</th>\n",
       "      <th>overall_freq</th>\n",
       "      <th>overall_mon</th>\n",
       "    </tr>\n",
       "  </thead>\n",
       "  <tbody>\n",
       "    <tr>\n",
       "      <th>0.25</th>\n",
       "      <td>131.0</td>\n",
       "      <td>1.0</td>\n",
       "      <td>35.713715</td>\n",
       "    </tr>\n",
       "    <tr>\n",
       "      <th>0.50</th>\n",
       "      <td>317.0</td>\n",
       "      <td>3.0</td>\n",
       "      <td>89.657349</td>\n",
       "    </tr>\n",
       "    <tr>\n",
       "      <th>0.75</th>\n",
       "      <td>774.0</td>\n",
       "      <td>6.0</td>\n",
       "      <td>193.694092</td>\n",
       "    </tr>\n",
       "  </tbody>\n",
       "</table>\n",
       "</div>"
      ],
      "text/plain": [
       "      recency  overall_freq  overall_mon\n",
       "0.25    131.0           1.0    35.713715\n",
       "0.50    317.0           3.0    89.657349\n",
       "0.75    774.0           6.0   193.694092"
      ]
     },
     "execution_count": 16,
     "metadata": {},
     "output_type": "execute_result"
    }
   ],
   "source": [
    "quant = ecom_rfm.quantile(q=[0.25, 0.5, 0.75])\n",
    "quant"
   ]
  },
  {
   "cell_type": "code",
   "execution_count": 17,
   "id": "c3de2c73-17f8-400a-89f0-06e67e32edaa",
   "metadata": {
    "tags": []
   },
   "outputs": [
    {
     "data": {
      "text/plain": [
       "{'recency': {0.25: 131.0, 0.5: 317.0, 0.75: 774.0},\n",
       " 'overall_freq': {0.25: 1.0, 0.5: 3.0, 0.75: 6.0},\n",
       " 'overall_mon': {0.25: 35.7137146, 0.5: 89.657348633, 0.75: 193.6940918}}"
      ]
     },
     "execution_count": 17,
     "metadata": {},
     "output_type": "execute_result"
    }
   ],
   "source": [
    "# make it into a dictionary\n",
    "quant.to_dict()"
   ]
  },
  {
   "cell_type": "markdown",
   "id": "32f19cba-625d-43e7-b661-0934f4a44c51",
   "metadata": {},
   "source": [
    "### RFM Segments"
   ]
  },
  {
   "cell_type": "code",
   "execution_count": 18,
   "id": "feccad79-1cb4-48fe-bac1-d6f65a031115",
   "metadata": {},
   "outputs": [],
   "source": [
    "# scores: 3 - 12\n",
    "# the intent of doing business together\n",
    "# "
   ]
  },
  {
   "cell_type": "code",
   "execution_count": 19,
   "id": "b4943729-d277-49f1-bb3e-ad84de9e3508",
   "metadata": {
    "tags": []
   },
   "outputs": [],
   "source": [
    "# Arguments (x = value, p = recency, monetary_value, frequency, d = quartiles dict)\n",
    "def RScore(x,p,d):\n",
    "    if x <= d[p][0.25]:\n",
    "        return 4\n",
    "    elif x <= d[p][0.50]:\n",
    "        return 3\n",
    "    elif x <= d[p][0.75]: \n",
    "        return 2\n",
    "    else:\n",
    "        return 1\n",
    "# Arguments (x = value, p = recency, monetary_value, frequency, k = quartiles dict)\n",
    "def FMScore(x,p,d):\n",
    "    if x <= d[p][0.25]:\n",
    "        return 1\n",
    "    elif x <= d[p][0.50]:\n",
    "        return 2\n",
    "    elif x <= d[p][0.75]: \n",
    "        return 3\n",
    "    else:\n",
    "        return 4"
   ]
  },
  {
   "cell_type": "code",
   "execution_count": 20,
   "id": "3b4b45d6-4d1f-46c1-ac62-ec80d79c0fb2",
   "metadata": {
    "tags": []
   },
   "outputs": [],
   "source": [
    "rfm_segmentation = ecom_rfm\n",
    "rfm_segmentation['R_Quartile'] = rfm_segmentation['recency'].apply(RScore, args=('recency',quant,))\n",
    "rfm_segmentation['F_Quartile'] = rfm_segmentation['overall_freq'].apply(FMScore, args=('overall_freq',quant,))\n",
    "rfm_segmentation['M_Quartile'] = rfm_segmentation['overall_mon'].apply(FMScore, args=('overall_mon',quant,))"
   ]
  },
  {
   "cell_type": "markdown",
   "id": "5bee6bcf-faed-4333-b5c6-5f407a2ef080",
   "metadata": {},
   "source": [
    "Best Recency score = 4: most recently purchase. Best Frequency score = 4: most quantity purchase. Best Monetary score = 4: spent the most."
   ]
  },
  {
   "cell_type": "code",
   "execution_count": 21,
   "id": "9c5f7fb8-f9da-4c55-ac71-9f877236046d",
   "metadata": {
    "tags": []
   },
   "outputs": [
    {
     "data": {
      "text/html": [
       "<div>\n",
       "<style scoped>\n",
       "    .dataframe tbody tr th:only-of-type {\n",
       "        vertical-align: middle;\n",
       "    }\n",
       "\n",
       "    .dataframe tbody tr th {\n",
       "        vertical-align: top;\n",
       "    }\n",
       "\n",
       "    .dataframe thead th {\n",
       "        text-align: right;\n",
       "    }\n",
       "</style>\n",
       "<table border=\"1\" class=\"dataframe\">\n",
       "  <thead>\n",
       "    <tr style=\"text-align: right;\">\n",
       "      <th></th>\n",
       "      <th>recency</th>\n",
       "      <th>overall_freq</th>\n",
       "      <th>overall_mon</th>\n",
       "      <th>R_Quartile</th>\n",
       "      <th>F_Quartile</th>\n",
       "      <th>M_Quartile</th>\n",
       "    </tr>\n",
       "    <tr>\n",
       "      <th>id</th>\n",
       "      <th></th>\n",
       "      <th></th>\n",
       "      <th></th>\n",
       "      <th></th>\n",
       "      <th></th>\n",
       "      <th></th>\n",
       "    </tr>\n",
       "  </thead>\n",
       "  <tbody>\n",
       "    <tr>\n",
       "      <th>914</th>\n",
       "      <td>194</td>\n",
       "      <td>7</td>\n",
       "      <td>318.894775</td>\n",
       "      <td>3</td>\n",
       "      <td>4</td>\n",
       "      <td>4</td>\n",
       "    </tr>\n",
       "    <tr>\n",
       "      <th>957</th>\n",
       "      <td>3</td>\n",
       "      <td>14</td>\n",
       "      <td>368.052246</td>\n",
       "      <td>4</td>\n",
       "      <td>4</td>\n",
       "      <td>4</td>\n",
       "    </tr>\n",
       "    <tr>\n",
       "      <th>1406</th>\n",
       "      <td>1489</td>\n",
       "      <td>15</td>\n",
       "      <td>423.298340</td>\n",
       "      <td>1</td>\n",
       "      <td>4</td>\n",
       "      <td>4</td>\n",
       "    </tr>\n",
       "    <tr>\n",
       "      <th>1414</th>\n",
       "      <td>155</td>\n",
       "      <td>4</td>\n",
       "      <td>71.217041</td>\n",
       "      <td>3</td>\n",
       "      <td>3</td>\n",
       "      <td>2</td>\n",
       "    </tr>\n",
       "    <tr>\n",
       "      <th>1546</th>\n",
       "      <td>194</td>\n",
       "      <td>6</td>\n",
       "      <td>442.638184</td>\n",
       "      <td>3</td>\n",
       "      <td>3</td>\n",
       "      <td>4</td>\n",
       "    </tr>\n",
       "  </tbody>\n",
       "</table>\n",
       "</div>"
      ],
      "text/plain": [
       "      recency  overall_freq  overall_mon  R_Quartile  F_Quartile  M_Quartile\n",
       "id                                                                          \n",
       "914       194             7   318.894775           3           4           4\n",
       "957         3            14   368.052246           4           4           4\n",
       "1406     1489            15   423.298340           1           4           4\n",
       "1414      155             4    71.217041           3           3           2\n",
       "1546      194             6   442.638184           3           3           4"
      ]
     },
     "execution_count": 21,
     "metadata": {},
     "output_type": "execute_result"
    }
   ],
   "source": [
    "rfm_segmentation.head()"
   ]
  },
  {
   "cell_type": "code",
   "execution_count": 22,
   "id": "16120967-5212-4738-aa8a-3e82e8fca27e",
   "metadata": {
    "tags": []
   },
   "outputs": [
    {
     "data": {
      "text/html": [
       "<div>\n",
       "<style scoped>\n",
       "    .dataframe tbody tr th:only-of-type {\n",
       "        vertical-align: middle;\n",
       "    }\n",
       "\n",
       "    .dataframe tbody tr th {\n",
       "        vertical-align: top;\n",
       "    }\n",
       "\n",
       "    .dataframe thead th {\n",
       "        text-align: right;\n",
       "    }\n",
       "</style>\n",
       "<table border=\"1\" class=\"dataframe\">\n",
       "  <thead>\n",
       "    <tr style=\"text-align: right;\">\n",
       "      <th></th>\n",
       "      <th>recency</th>\n",
       "      <th>overall_freq</th>\n",
       "      <th>overall_mon</th>\n",
       "      <th>R_Quartile</th>\n",
       "      <th>F_Quartile</th>\n",
       "      <th>M_Quartile</th>\n",
       "      <th>RFMScore</th>\n",
       "    </tr>\n",
       "    <tr>\n",
       "      <th>id</th>\n",
       "      <th></th>\n",
       "      <th></th>\n",
       "      <th></th>\n",
       "      <th></th>\n",
       "      <th></th>\n",
       "      <th></th>\n",
       "      <th></th>\n",
       "    </tr>\n",
       "  </thead>\n",
       "  <tbody>\n",
       "    <tr>\n",
       "      <th>914</th>\n",
       "      <td>194</td>\n",
       "      <td>7</td>\n",
       "      <td>318.894775</td>\n",
       "      <td>3</td>\n",
       "      <td>4</td>\n",
       "      <td>4</td>\n",
       "      <td>344</td>\n",
       "    </tr>\n",
       "    <tr>\n",
       "      <th>957</th>\n",
       "      <td>3</td>\n",
       "      <td>14</td>\n",
       "      <td>368.052246</td>\n",
       "      <td>4</td>\n",
       "      <td>4</td>\n",
       "      <td>4</td>\n",
       "      <td>444</td>\n",
       "    </tr>\n",
       "    <tr>\n",
       "      <th>1406</th>\n",
       "      <td>1489</td>\n",
       "      <td>15</td>\n",
       "      <td>423.298340</td>\n",
       "      <td>1</td>\n",
       "      <td>4</td>\n",
       "      <td>4</td>\n",
       "      <td>144</td>\n",
       "    </tr>\n",
       "    <tr>\n",
       "      <th>1414</th>\n",
       "      <td>155</td>\n",
       "      <td>4</td>\n",
       "      <td>71.217041</td>\n",
       "      <td>3</td>\n",
       "      <td>3</td>\n",
       "      <td>2</td>\n",
       "      <td>332</td>\n",
       "    </tr>\n",
       "    <tr>\n",
       "      <th>1546</th>\n",
       "      <td>194</td>\n",
       "      <td>6</td>\n",
       "      <td>442.638184</td>\n",
       "      <td>3</td>\n",
       "      <td>3</td>\n",
       "      <td>4</td>\n",
       "      <td>334</td>\n",
       "    </tr>\n",
       "  </tbody>\n",
       "</table>\n",
       "</div>"
      ],
      "text/plain": [
       "      recency  overall_freq  overall_mon  R_Quartile  F_Quartile  M_Quartile  \\\n",
       "id                                                                             \n",
       "914       194             7   318.894775           3           4           4   \n",
       "957         3            14   368.052246           4           4           4   \n",
       "1406     1489            15   423.298340           1           4           4   \n",
       "1414      155             4    71.217041           3           3           2   \n",
       "1546      194             6   442.638184           3           3           4   \n",
       "\n",
       "     RFMScore  \n",
       "id             \n",
       "914       344  \n",
       "957       444  \n",
       "1406      144  \n",
       "1414      332  \n",
       "1546      334  "
      ]
     },
     "execution_count": 22,
     "metadata": {},
     "output_type": "execute_result"
    }
   ],
   "source": [
    "rfm_segmentation['RFMScore'] = rfm_segmentation.R_Quartile.map(str) \\\n",
    "                            + rfm_segmentation.F_Quartile.map(str) \\\n",
    "                            + rfm_segmentation.M_Quartile.map(str)\n",
    "rfm_segmentation.head()"
   ]
  },
  {
   "cell_type": "code",
   "execution_count": 23,
   "id": "57030140-448a-43d9-a07c-03cae19aaeb4",
   "metadata": {
    "tags": []
   },
   "outputs": [
    {
     "name": "stdout",
     "output_type": "stream",
     "text": [
      "Best Customers:  2050\n",
      "Frequent Visitors: 46\n",
      "Almost Lost:  1256\n",
      "Low Value Customers:  1536\n"
     ]
    }
   ],
   "source": [
    "print(\"Best Customers: \",len(rfm_segmentation[rfm_segmentation['RFMScore']=='444']))\n",
    "print(\"Frequent Visitors:\",len(rfm_segmentation[rfm_segmentation['RFMScore']== '442']))\n",
    "print('Almost Lost: ', len(rfm_segmentation[rfm_segmentation['RFMScore']=='244']))\n",
    "print('Low Value Customers: ',len(rfm_segmentation[rfm_segmentation['RFMScore']=='111']))"
   ]
  }
 ],
 "metadata": {
  "kernelspec": {
   "display_name": "Python 3 (ipykernel)",
   "language": "python",
   "name": "python3"
  },
  "language_info": {
   "codemirror_mode": {
    "name": "ipython",
    "version": 3
   },
   "file_extension": ".py",
   "mimetype": "text/x-python",
   "name": "python",
   "nbconvert_exporter": "python",
   "pygments_lexer": "ipython3",
   "version": "3.11.4"
  }
 },
 "nbformat": 4,
 "nbformat_minor": 5
}
