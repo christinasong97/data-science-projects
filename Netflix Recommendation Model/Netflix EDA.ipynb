{
 "cells": [
  {
   "cell_type": "markdown",
   "id": "b24fc4bd-1d4e-4b7b-8d75-a1e81ec3107f",
   "metadata": {},
   "source": [
    "# Netflix - Movies & TV Shows\n",
    "#### Christina Song"
   ]
  },
  {
   "cell_type": "markdown",
   "id": "0c7b4f00-660f-4806-b607-fce008fb9c1f",
   "metadata": {
    "jp-MarkdownHeadingCollapsed": true,
    "tags": []
   },
   "source": [
    "#### Dataset: https://www.kaggle.com/datasets/victorsoeiro/netflix-tv-shows-and-movies\n",
    "\n",
    "This data set was created to list all shows available on Netflix streaming, and analyze the data to find interesting facts. This data was acquired in July 2022 containing data available in the United States."
   ]
  },
  {
   "cell_type": "markdown",
   "id": "7eaec91a-7a22-4eb9-b5d6-bc9fcfaab18c",
   "metadata": {},
   "source": [
    "### Questions to answer:\n",
    "\n",
    "How can we create a ranking of shows based on imdb and tmdb scores? (correlation matrix)\n",
    "\n",
    "What are the best predictors of a highly ranked movie/tv-show?\n",
    "\n",
    "How can we define content diversity across the Netflix platform and identify any gaps in content offering?"
   ]
  },
  {
   "cell_type": "markdown",
   "id": "f8338106-0e6b-4664-bd16-2e727470347b",
   "metadata": {},
   "source": [
    "## Data Dictionary\n",
    "\n",
    "### Titles Table\n",
    "There are +5K unique titles on Netflix. \n",
    "\n",
    "|   Variable   |  Description  |\n",
    "| :----------- | :------------ |\n",
    "| id | title ID on JustWatch |\n",
    "| title | name of the title |\n",
    "| show_type | TV show or movie |\n",
    "| description | a brief description |\n",
    "| release_year | the release year |\n",
    "| age_certification | the age certification |\n",
    "| runtime | the length of the episode (show) or movie |\n",
    "| genres | a list of genres |\n",
    "| production_countries | a list of countries that produced the title |\n",
    "| seasons | Number of seasons if it's a SHOW |\n",
    "| imdb_id | the title ID on IMDB |\n",
    "| imdb_votes | Votes on IMDB |\n",
    "| tmdb_popularity | popularity on TMDB |\n",
    "| tmdb_score | Score on TMDB |\n",
    "\n",
    "### Credits Table\n",
    "There are +77k credits of actors and directors on Netflix titles. \n",
    "\n",
    "|   Variable   |  Description  |\n",
    "| :----------- | :------------ |\n",
    "| person_ID | The person ID on JustWatch |\n",
    "| id | The title ID on JustWatch |\n",
    "| name | The actor or director's name |\n",
    "| character_name | The character name |\n",
    "| role | ACTOR or DIRECTOR |\n"
   ]
  },
  {
   "cell_type": "code",
   "execution_count": 1,
   "id": "c2bd4f5d-508a-4fa2-9430-70ce49bef3e8",
   "metadata": {
    "tags": []
   },
   "outputs": [],
   "source": [
    "# Loading libraries\n",
    "\n",
    "import numpy as np\n",
    "import matplotlib.pyplot as plt\n",
    "import pandas as pd\n",
    "import seaborn as sns"
   ]
  },
  {
   "cell_type": "markdown",
   "id": "82a5e1dd-f396-4744-bfae-682ca4be2d78",
   "metadata": {},
   "source": [
    "## Movies & TV Shows"
   ]
  },
  {
   "cell_type": "code",
   "execution_count": 2,
   "id": "369976b0-00a6-4f0f-8500-95ea3d19c7ed",
   "metadata": {
    "tags": []
   },
   "outputs": [
    {
     "data": {
      "text/html": [
       "<div>\n",
       "<style scoped>\n",
       "    .dataframe tbody tr th:only-of-type {\n",
       "        vertical-align: middle;\n",
       "    }\n",
       "\n",
       "    .dataframe tbody tr th {\n",
       "        vertical-align: top;\n",
       "    }\n",
       "\n",
       "    .dataframe thead th {\n",
       "        text-align: right;\n",
       "    }\n",
       "</style>\n",
       "<table border=\"1\" class=\"dataframe\">\n",
       "  <thead>\n",
       "    <tr style=\"text-align: right;\">\n",
       "      <th></th>\n",
       "      <th>id</th>\n",
       "      <th>title</th>\n",
       "      <th>type</th>\n",
       "      <th>description</th>\n",
       "      <th>release_year</th>\n",
       "      <th>age_certification</th>\n",
       "      <th>runtime</th>\n",
       "      <th>genres</th>\n",
       "      <th>production_countries</th>\n",
       "      <th>seasons</th>\n",
       "      <th>imdb_id</th>\n",
       "      <th>imdb_score</th>\n",
       "      <th>imdb_votes</th>\n",
       "      <th>tmdb_popularity</th>\n",
       "      <th>tmdb_score</th>\n",
       "    </tr>\n",
       "  </thead>\n",
       "  <tbody>\n",
       "    <tr>\n",
       "      <th>0</th>\n",
       "      <td>ts300399</td>\n",
       "      <td>Five Came Back: The Reference Films</td>\n",
       "      <td>SHOW</td>\n",
       "      <td>This collection includes 12 World War II-era p...</td>\n",
       "      <td>1945</td>\n",
       "      <td>TV-MA</td>\n",
       "      <td>51</td>\n",
       "      <td>['documentation']</td>\n",
       "      <td>['US']</td>\n",
       "      <td>1.0</td>\n",
       "      <td>NaN</td>\n",
       "      <td>NaN</td>\n",
       "      <td>NaN</td>\n",
       "      <td>0.600</td>\n",
       "      <td>NaN</td>\n",
       "    </tr>\n",
       "    <tr>\n",
       "      <th>1</th>\n",
       "      <td>tm84618</td>\n",
       "      <td>Taxi Driver</td>\n",
       "      <td>MOVIE</td>\n",
       "      <td>A mentally unstable Vietnam War veteran works ...</td>\n",
       "      <td>1976</td>\n",
       "      <td>R</td>\n",
       "      <td>114</td>\n",
       "      <td>['drama', 'crime']</td>\n",
       "      <td>['US']</td>\n",
       "      <td>NaN</td>\n",
       "      <td>tt0075314</td>\n",
       "      <td>8.2</td>\n",
       "      <td>808582.0</td>\n",
       "      <td>40.965</td>\n",
       "      <td>8.179</td>\n",
       "    </tr>\n",
       "    <tr>\n",
       "      <th>2</th>\n",
       "      <td>tm154986</td>\n",
       "      <td>Deliverance</td>\n",
       "      <td>MOVIE</td>\n",
       "      <td>Intent on seeing the Cahulawassee River before...</td>\n",
       "      <td>1972</td>\n",
       "      <td>R</td>\n",
       "      <td>109</td>\n",
       "      <td>['drama', 'action', 'thriller', 'european']</td>\n",
       "      <td>['US']</td>\n",
       "      <td>NaN</td>\n",
       "      <td>tt0068473</td>\n",
       "      <td>7.7</td>\n",
       "      <td>107673.0</td>\n",
       "      <td>10.010</td>\n",
       "      <td>7.300</td>\n",
       "    </tr>\n",
       "    <tr>\n",
       "      <th>3</th>\n",
       "      <td>tm127384</td>\n",
       "      <td>Monty Python and the Holy Grail</td>\n",
       "      <td>MOVIE</td>\n",
       "      <td>King Arthur, accompanied by his squire, recrui...</td>\n",
       "      <td>1975</td>\n",
       "      <td>PG</td>\n",
       "      <td>91</td>\n",
       "      <td>['fantasy', 'action', 'comedy']</td>\n",
       "      <td>['GB']</td>\n",
       "      <td>NaN</td>\n",
       "      <td>tt0071853</td>\n",
       "      <td>8.2</td>\n",
       "      <td>534486.0</td>\n",
       "      <td>15.461</td>\n",
       "      <td>7.811</td>\n",
       "    </tr>\n",
       "    <tr>\n",
       "      <th>4</th>\n",
       "      <td>tm120801</td>\n",
       "      <td>The Dirty Dozen</td>\n",
       "      <td>MOVIE</td>\n",
       "      <td>12 American military prisoners in World War II...</td>\n",
       "      <td>1967</td>\n",
       "      <td>NaN</td>\n",
       "      <td>150</td>\n",
       "      <td>['war', 'action']</td>\n",
       "      <td>['GB', 'US']</td>\n",
       "      <td>NaN</td>\n",
       "      <td>tt0061578</td>\n",
       "      <td>7.7</td>\n",
       "      <td>72662.0</td>\n",
       "      <td>20.398</td>\n",
       "      <td>7.600</td>\n",
       "    </tr>\n",
       "  </tbody>\n",
       "</table>\n",
       "</div>"
      ],
      "text/plain": [
       "         id                                title   type  \\\n",
       "0  ts300399  Five Came Back: The Reference Films   SHOW   \n",
       "1   tm84618                          Taxi Driver  MOVIE   \n",
       "2  tm154986                          Deliverance  MOVIE   \n",
       "3  tm127384      Monty Python and the Holy Grail  MOVIE   \n",
       "4  tm120801                      The Dirty Dozen  MOVIE   \n",
       "\n",
       "                                         description  release_year  \\\n",
       "0  This collection includes 12 World War II-era p...          1945   \n",
       "1  A mentally unstable Vietnam War veteran works ...          1976   \n",
       "2  Intent on seeing the Cahulawassee River before...          1972   \n",
       "3  King Arthur, accompanied by his squire, recrui...          1975   \n",
       "4  12 American military prisoners in World War II...          1967   \n",
       "\n",
       "  age_certification  runtime                                       genres  \\\n",
       "0             TV-MA       51                            ['documentation']   \n",
       "1                 R      114                           ['drama', 'crime']   \n",
       "2                 R      109  ['drama', 'action', 'thriller', 'european']   \n",
       "3                PG       91              ['fantasy', 'action', 'comedy']   \n",
       "4               NaN      150                            ['war', 'action']   \n",
       "\n",
       "  production_countries  seasons    imdb_id  imdb_score  imdb_votes  \\\n",
       "0               ['US']      1.0        NaN         NaN         NaN   \n",
       "1               ['US']      NaN  tt0075314         8.2    808582.0   \n",
       "2               ['US']      NaN  tt0068473         7.7    107673.0   \n",
       "3               ['GB']      NaN  tt0071853         8.2    534486.0   \n",
       "4         ['GB', 'US']      NaN  tt0061578         7.7     72662.0   \n",
       "\n",
       "   tmdb_popularity  tmdb_score  \n",
       "0            0.600         NaN  \n",
       "1           40.965       8.179  \n",
       "2           10.010       7.300  \n",
       "3           15.461       7.811  \n",
       "4           20.398       7.600  "
      ]
     },
     "execution_count": 2,
     "metadata": {},
     "output_type": "execute_result"
    }
   ],
   "source": [
    "# Loading the title dataset\n",
    "\n",
    "film = pd.read_csv('../netflix/archive/titles.csv')\n",
    "film.head()"
   ]
  },
  {
   "cell_type": "code",
   "execution_count": 3,
   "id": "f6d89bb7-e41c-4f36-977a-ea490aaa5736",
   "metadata": {
    "tags": []
   },
   "outputs": [
    {
     "data": {
      "text/plain": [
       "(5850, 15)"
      ]
     },
     "execution_count": 3,
     "metadata": {},
     "output_type": "execute_result"
    }
   ],
   "source": [
    "# Checking the shape of the table\n",
    "\n",
    "film.shape"
   ]
  },
  {
   "cell_type": "code",
   "execution_count": 4,
   "id": "a8693c0e-881f-45b9-8f1a-0dad00544a78",
   "metadata": {},
   "outputs": [
    {
     "name": "stdout",
     "output_type": "stream",
     "text": [
      "<class 'pandas.core.frame.DataFrame'>\n",
      "RangeIndex: 5850 entries, 0 to 5849\n",
      "Data columns (total 15 columns):\n",
      " #   Column                Non-Null Count  Dtype  \n",
      "---  ------                --------------  -----  \n",
      " 0   id                    5850 non-null   object \n",
      " 1   title                 5849 non-null   object \n",
      " 2   type                  5850 non-null   object \n",
      " 3   description           5832 non-null   object \n",
      " 4   release_year          5850 non-null   int64  \n",
      " 5   age_certification     3231 non-null   object \n",
      " 6   runtime               5850 non-null   int64  \n",
      " 7   genres                5850 non-null   object \n",
      " 8   production_countries  5850 non-null   object \n",
      " 9   seasons               2106 non-null   float64\n",
      " 10  imdb_id               5447 non-null   object \n",
      " 11  imdb_score            5368 non-null   float64\n",
      " 12  imdb_votes            5352 non-null   float64\n",
      " 13  tmdb_popularity       5759 non-null   float64\n",
      " 14  tmdb_score            5539 non-null   float64\n",
      "dtypes: float64(5), int64(2), object(8)\n",
      "memory usage: 685.7+ KB\n"
     ]
    }
   ],
   "source": [
    "# Checking for null values and datatypes of each variable. \n",
    "\n",
    "film.info()"
   ]
  },
  {
   "cell_type": "markdown",
   "id": "cc8c1f51-2369-41e4-bb41-91677ae5fea2",
   "metadata": {
    "tags": []
   },
   "source": [
    "There is one title value missing. \n",
    "\n",
    "The seasons column is only for SHOWS so we can drop the seasons column when splitting the table for movies. \n",
    "\n",
    "Not all movies of tv shows are associated with imdb and/or tmdb for rating information. "
   ]
  },
  {
   "cell_type": "markdown",
   "id": "1acd2667-0843-4d40-b1e1-795a0976716e",
   "metadata": {},
   "source": [
    "### Let's separate Movies and TV shows to run separate analyses."
   ]
  },
  {
   "cell_type": "markdown",
   "id": "28f2252f-8a16-42ba-abc3-64a8f5ac10b5",
   "metadata": {},
   "source": [
    "### Cleaning Data"
   ]
  },
  {
   "cell_type": "markdown",
   "id": "8d1c1051-ba08-4b0f-8fae-14952d225b9c",
   "metadata": {},
   "source": [
    "#### Let's drop nulls for score and population scores. "
   ]
  },
  {
   "cell_type": "code",
   "execution_count": 5,
   "id": "7974d798-9736-4440-bdc6-e35d5c6c1072",
   "metadata": {
    "tags": []
   },
   "outputs": [
    {
     "data": {
      "text/plain": [
       "id                         0\n",
       "title                      0\n",
       "type                       0\n",
       "description                0\n",
       "release_year               0\n",
       "age_certification       2611\n",
       "runtime                    0\n",
       "genres                     0\n",
       "production_countries       0\n",
       "seasons                 3735\n",
       "imdb_id                  392\n",
       "imdb_score               469\n",
       "imdb_votes               484\n",
       "tmdb_popularity           85\n",
       "tmdb_score               301\n",
       "dtype: int64"
      ]
     },
     "execution_count": 5,
     "metadata": {},
     "output_type": "execute_result"
    }
   ],
   "source": [
    "# Since there are small number of null values for title and description, let's just drop them as it won't make a big difference in the whole dataset. \n",
    "\n",
    "film_clean = film.dropna(subset=['title', 'description'])\n",
    "film_clean.isnull().sum()"
   ]
  },
  {
   "cell_type": "code",
   "execution_count": 6,
   "id": "ded6f35f-298d-4483-aef4-5812210f49f6",
   "metadata": {
    "tags": []
   },
   "outputs": [
    {
     "data": {
      "text/plain": [
       "id                         0\n",
       "title                      0\n",
       "type                       0\n",
       "description                2\n",
       "release_year               0\n",
       "age_certification       2189\n",
       "runtime                    0\n",
       "genres                     0\n",
       "production_countries       0\n",
       "seasons                 3271\n",
       "imdb_id                    0\n",
       "imdb_score                 0\n",
       "imdb_votes                 0\n",
       "tmdb_popularity            0\n",
       "tmdb_score                 0\n",
       "dtype: int64"
      ]
     },
     "execution_count": 6,
     "metadata": {},
     "output_type": "execute_result"
    }
   ],
   "source": [
    "film_clean = film.dropna(subset=['imdb_id','imdb_score','imdb_votes','tmdb_popularity','tmdb_score'])\n",
    "film_clean.isnull().sum()"
   ]
  },
  {
   "cell_type": "code",
   "execution_count": 7,
   "id": "05037779-a948-4e06-9811-c0b8a81f34e0",
   "metadata": {
    "tags": []
   },
   "outputs": [],
   "source": [
    "movies = film_clean[film_clean['type'] == 'MOVIE']\n",
    "tv = film_clean[film_clean['type'] == 'SHOW']"
   ]
  },
  {
   "cell_type": "code",
   "execution_count": 8,
   "id": "ff37e486-af39-4acd-9ab3-a48e7254dbb1",
   "metadata": {
    "tags": []
   },
   "outputs": [],
   "source": [
    "# Dropping seasons column not needed for movies table. \n",
    "\n",
    "movies = movies.copy()\n",
    "movies.drop(columns=['seasons'], inplace=True)"
   ]
  },
  {
   "cell_type": "code",
   "execution_count": 9,
   "id": "8e1bc31c-27b5-48b3-a18c-af3e555fb08e",
   "metadata": {
    "tags": []
   },
   "outputs": [],
   "source": [
    "# Select the numerical values.\n",
    "\n",
    "film_num_cols = film_clean[['runtime', 'imdb_score', 'imdb_votes', 'tmdb_popularity', 'tmdb_score']]"
   ]
  },
  {
   "cell_type": "code",
   "execution_count": 10,
   "id": "dfb54f6d-fd9e-4e6a-8dad-c96bcd04f52e",
   "metadata": {
    "tags": []
   },
   "outputs": [
    {
     "data": {
      "text/html": [
       "<div>\n",
       "<style scoped>\n",
       "    .dataframe tbody tr th:only-of-type {\n",
       "        vertical-align: middle;\n",
       "    }\n",
       "\n",
       "    .dataframe tbody tr th {\n",
       "        vertical-align: top;\n",
       "    }\n",
       "\n",
       "    .dataframe thead th {\n",
       "        text-align: right;\n",
       "    }\n",
       "</style>\n",
       "<table border=\"1\" class=\"dataframe\">\n",
       "  <thead>\n",
       "    <tr style=\"text-align: right;\">\n",
       "      <th></th>\n",
       "      <th>runtime</th>\n",
       "      <th>imdb_score</th>\n",
       "      <th>imdb_votes</th>\n",
       "      <th>tmdb_popularity</th>\n",
       "      <th>tmdb_score</th>\n",
       "    </tr>\n",
       "  </thead>\n",
       "  <tbody>\n",
       "    <tr>\n",
       "      <th>count</th>\n",
       "      <td>5131.000000</td>\n",
       "      <td>5131.000000</td>\n",
       "      <td>5.131000e+03</td>\n",
       "      <td>5131.000000</td>\n",
       "      <td>5131.000000</td>\n",
       "    </tr>\n",
       "    <tr>\n",
       "      <th>mean</th>\n",
       "      <td>78.840577</td>\n",
       "      <td>6.516079</td>\n",
       "      <td>2.434477e+04</td>\n",
       "      <td>24.097710</td>\n",
       "      <td>6.825211</td>\n",
       "    </tr>\n",
       "    <tr>\n",
       "      <th>std</th>\n",
       "      <td>38.615331</td>\n",
       "      <td>1.152650</td>\n",
       "      <td>9.754941e+04</td>\n",
       "      <td>85.280431</td>\n",
       "      <td>1.146735</td>\n",
       "    </tr>\n",
       "    <tr>\n",
       "      <th>min</th>\n",
       "      <td>0.000000</td>\n",
       "      <td>1.600000</td>\n",
       "      <td>5.000000e+00</td>\n",
       "      <td>0.600000</td>\n",
       "      <td>1.000000</td>\n",
       "    </tr>\n",
       "    <tr>\n",
       "      <th>25%</th>\n",
       "      <td>46.000000</td>\n",
       "      <td>5.800000</td>\n",
       "      <td>6.120000e+02</td>\n",
       "      <td>3.140500</td>\n",
       "      <td>6.100000</td>\n",
       "    </tr>\n",
       "    <tr>\n",
       "      <th>50%</th>\n",
       "      <td>86.000000</td>\n",
       "      <td>6.600000</td>\n",
       "      <td>2.474000e+03</td>\n",
       "      <td>7.479000</td>\n",
       "      <td>6.900000</td>\n",
       "    </tr>\n",
       "    <tr>\n",
       "      <th>75%</th>\n",
       "      <td>105.000000</td>\n",
       "      <td>7.300000</td>\n",
       "      <td>1.028300e+04</td>\n",
       "      <td>17.606500</td>\n",
       "      <td>7.500000</td>\n",
       "    </tr>\n",
       "    <tr>\n",
       "      <th>max</th>\n",
       "      <td>225.000000</td>\n",
       "      <td>9.500000</td>\n",
       "      <td>2.294231e+06</td>\n",
       "      <td>2274.044000</td>\n",
       "      <td>10.000000</td>\n",
       "    </tr>\n",
       "  </tbody>\n",
       "</table>\n",
       "</div>"
      ],
      "text/plain": [
       "           runtime   imdb_score    imdb_votes  tmdb_popularity   tmdb_score\n",
       "count  5131.000000  5131.000000  5.131000e+03      5131.000000  5131.000000\n",
       "mean     78.840577     6.516079  2.434477e+04        24.097710     6.825211\n",
       "std      38.615331     1.152650  9.754941e+04        85.280431     1.146735\n",
       "min       0.000000     1.600000  5.000000e+00         0.600000     1.000000\n",
       "25%      46.000000     5.800000  6.120000e+02         3.140500     6.100000\n",
       "50%      86.000000     6.600000  2.474000e+03         7.479000     6.900000\n",
       "75%     105.000000     7.300000  1.028300e+04        17.606500     7.500000\n",
       "max     225.000000     9.500000  2.294231e+06      2274.044000    10.000000"
      ]
     },
     "execution_count": 10,
     "metadata": {},
     "output_type": "execute_result"
    }
   ],
   "source": [
    "# The basic description of these numerical values. \n",
    "\n",
    "film_num_cols.describe()"
   ]
  },
  {
   "cell_type": "code",
   "execution_count": 11,
   "id": "d08a297f-7a06-4f1a-8c9b-5c82c7b34476",
   "metadata": {
    "tags": []
   },
   "outputs": [
    {
     "data": {
      "text/html": [
       "<div>\n",
       "<style scoped>\n",
       "    .dataframe tbody tr th:only-of-type {\n",
       "        vertical-align: middle;\n",
       "    }\n",
       "\n",
       "    .dataframe tbody tr th {\n",
       "        vertical-align: top;\n",
       "    }\n",
       "\n",
       "    .dataframe thead th {\n",
       "        text-align: right;\n",
       "    }\n",
       "</style>\n",
       "<table border=\"1\" class=\"dataframe\">\n",
       "  <thead>\n",
       "    <tr style=\"text-align: right;\">\n",
       "      <th></th>\n",
       "      <th>id</th>\n",
       "      <th>title</th>\n",
       "      <th>type</th>\n",
       "      <th>description</th>\n",
       "      <th>release_year</th>\n",
       "      <th>age_certification</th>\n",
       "      <th>runtime</th>\n",
       "      <th>genres</th>\n",
       "      <th>production_countries</th>\n",
       "      <th>seasons</th>\n",
       "      <th>imdb_id</th>\n",
       "      <th>imdb_score</th>\n",
       "      <th>imdb_votes</th>\n",
       "      <th>tmdb_popularity</th>\n",
       "      <th>tmdb_score</th>\n",
       "    </tr>\n",
       "  </thead>\n",
       "  <tbody>\n",
       "    <tr>\n",
       "      <th>5</th>\n",
       "      <td>ts22164</td>\n",
       "      <td>Monty Python's Flying Circus</td>\n",
       "      <td>SHOW</td>\n",
       "      <td>A British sketch comedy series with the shows ...</td>\n",
       "      <td>1969</td>\n",
       "      <td>TV-14</td>\n",
       "      <td>30</td>\n",
       "      <td>['comedy', 'european']</td>\n",
       "      <td>['GB']</td>\n",
       "      <td>4.0</td>\n",
       "      <td>tt0063929</td>\n",
       "      <td>8.8</td>\n",
       "      <td>73424.0</td>\n",
       "      <td>17.617</td>\n",
       "      <td>8.306</td>\n",
       "    </tr>\n",
       "    <tr>\n",
       "      <th>26</th>\n",
       "      <td>ts45948</td>\n",
       "      <td>Monty Python's Fliegender Zirkus</td>\n",
       "      <td>SHOW</td>\n",
       "      <td>Monty Python's Fliegender Zirkus consisted of ...</td>\n",
       "      <td>1972</td>\n",
       "      <td>TV-MA</td>\n",
       "      <td>43</td>\n",
       "      <td>['comedy']</td>\n",
       "      <td>[]</td>\n",
       "      <td>1.0</td>\n",
       "      <td>tt0202477</td>\n",
       "      <td>8.1</td>\n",
       "      <td>2151.0</td>\n",
       "      <td>1.487</td>\n",
       "      <td>7.000</td>\n",
       "    </tr>\n",
       "    <tr>\n",
       "      <th>35</th>\n",
       "      <td>ts20681</td>\n",
       "      <td>Seinfeld</td>\n",
       "      <td>SHOW</td>\n",
       "      <td>A stand-up comedian and his three offbeat frie...</td>\n",
       "      <td>1989</td>\n",
       "      <td>TV-PG</td>\n",
       "      <td>24</td>\n",
       "      <td>['comedy']</td>\n",
       "      <td>['US']</td>\n",
       "      <td>9.0</td>\n",
       "      <td>tt0098904</td>\n",
       "      <td>8.9</td>\n",
       "      <td>308824.0</td>\n",
       "      <td>130.213</td>\n",
       "      <td>8.301</td>\n",
       "    </tr>\n",
       "    <tr>\n",
       "      <th>44</th>\n",
       "      <td>ts22082</td>\n",
       "      <td>Knight Rider</td>\n",
       "      <td>SHOW</td>\n",
       "      <td>Michael Long, an undercover police officer, is...</td>\n",
       "      <td>1982</td>\n",
       "      <td>TV-PG</td>\n",
       "      <td>51</td>\n",
       "      <td>['scifi', 'action', 'crime', 'drama']</td>\n",
       "      <td>['US']</td>\n",
       "      <td>4.0</td>\n",
       "      <td>tt0083437</td>\n",
       "      <td>6.9</td>\n",
       "      <td>34115.0</td>\n",
       "      <td>50.267</td>\n",
       "      <td>7.500</td>\n",
       "    </tr>\n",
       "    <tr>\n",
       "      <th>45</th>\n",
       "      <td>ts21715</td>\n",
       "      <td>Thomas &amp; Friends</td>\n",
       "      <td>SHOW</td>\n",
       "      <td>Thomas &amp; Friends is a British children's telev...</td>\n",
       "      <td>1984</td>\n",
       "      <td>TV-Y</td>\n",
       "      <td>10</td>\n",
       "      <td>['animation', 'family', 'comedy', 'fantasy', '...</td>\n",
       "      <td>['GB']</td>\n",
       "      <td>24.0</td>\n",
       "      <td>tt0086815</td>\n",
       "      <td>6.5</td>\n",
       "      <td>5104.0</td>\n",
       "      <td>42.196</td>\n",
       "      <td>6.500</td>\n",
       "    </tr>\n",
       "  </tbody>\n",
       "</table>\n",
       "</div>"
      ],
      "text/plain": [
       "         id                             title  type  \\\n",
       "5   ts22164      Monty Python's Flying Circus  SHOW   \n",
       "26  ts45948  Monty Python's Fliegender Zirkus  SHOW   \n",
       "35  ts20681                          Seinfeld  SHOW   \n",
       "44  ts22082                      Knight Rider  SHOW   \n",
       "45  ts21715                  Thomas & Friends  SHOW   \n",
       "\n",
       "                                          description  release_year  \\\n",
       "5   A British sketch comedy series with the shows ...          1969   \n",
       "26  Monty Python's Fliegender Zirkus consisted of ...          1972   \n",
       "35  A stand-up comedian and his three offbeat frie...          1989   \n",
       "44  Michael Long, an undercover police officer, is...          1982   \n",
       "45  Thomas & Friends is a British children's telev...          1984   \n",
       "\n",
       "   age_certification  runtime  \\\n",
       "5              TV-14       30   \n",
       "26             TV-MA       43   \n",
       "35             TV-PG       24   \n",
       "44             TV-PG       51   \n",
       "45              TV-Y       10   \n",
       "\n",
       "                                               genres production_countries  \\\n",
       "5                              ['comedy', 'european']               ['GB']   \n",
       "26                                         ['comedy']                   []   \n",
       "35                                         ['comedy']               ['US']   \n",
       "44              ['scifi', 'action', 'crime', 'drama']               ['US']   \n",
       "45  ['animation', 'family', 'comedy', 'fantasy', '...               ['GB']   \n",
       "\n",
       "    seasons    imdb_id  imdb_score  imdb_votes  tmdb_popularity  tmdb_score  \n",
       "5       4.0  tt0063929         8.8     73424.0           17.617       8.306  \n",
       "26      1.0  tt0202477         8.1      2151.0            1.487       7.000  \n",
       "35      9.0  tt0098904         8.9    308824.0          130.213       8.301  \n",
       "44      4.0  tt0083437         6.9     34115.0           50.267       7.500  \n",
       "45     24.0  tt0086815         6.5      5104.0           42.196       6.500  "
      ]
     },
     "execution_count": 11,
     "metadata": {},
     "output_type": "execute_result"
    }
   ],
   "source": [
    "tv.head()"
   ]
  },
  {
   "cell_type": "code",
   "execution_count": 12,
   "id": "c58f4e9b-0a2c-4bc7-ac78-545f66b81e49",
   "metadata": {
    "tags": []
   },
   "outputs": [
    {
     "data": {
      "text/plain": [
       "id                      1860\n",
       "title                   1860\n",
       "type                    1860\n",
       "description             1859\n",
       "release_year            1860\n",
       "age_certification       1668\n",
       "runtime                 1860\n",
       "genres                  1860\n",
       "production_countries    1860\n",
       "seasons                 1860\n",
       "imdb_id                 1860\n",
       "imdb_score              1860\n",
       "imdb_votes              1860\n",
       "tmdb_popularity         1860\n",
       "tmdb_score              1860\n",
       "dtype: int64"
      ]
     },
     "execution_count": 12,
     "metadata": {},
     "output_type": "execute_result"
    }
   ],
   "source": [
    "tv.count()"
   ]
  },
  {
   "cell_type": "code",
   "execution_count": 13,
   "id": "d275c6b6-14c5-4cc1-9fba-22885b1110d7",
   "metadata": {
    "tags": []
   },
   "outputs": [
    {
     "data": {
      "text/html": [
       "<div>\n",
       "<style scoped>\n",
       "    .dataframe tbody tr th:only-of-type {\n",
       "        vertical-align: middle;\n",
       "    }\n",
       "\n",
       "    .dataframe tbody tr th {\n",
       "        vertical-align: top;\n",
       "    }\n",
       "\n",
       "    .dataframe thead th {\n",
       "        text-align: right;\n",
       "    }\n",
       "</style>\n",
       "<table border=\"1\" class=\"dataframe\">\n",
       "  <thead>\n",
       "    <tr style=\"text-align: right;\">\n",
       "      <th></th>\n",
       "      <th>id</th>\n",
       "      <th>title</th>\n",
       "      <th>type</th>\n",
       "      <th>description</th>\n",
       "      <th>release_year</th>\n",
       "      <th>age_certification</th>\n",
       "      <th>runtime</th>\n",
       "      <th>genres</th>\n",
       "      <th>production_countries</th>\n",
       "      <th>imdb_id</th>\n",
       "      <th>imdb_score</th>\n",
       "      <th>imdb_votes</th>\n",
       "      <th>tmdb_popularity</th>\n",
       "      <th>tmdb_score</th>\n",
       "    </tr>\n",
       "  </thead>\n",
       "  <tbody>\n",
       "    <tr>\n",
       "      <th>1</th>\n",
       "      <td>tm84618</td>\n",
       "      <td>Taxi Driver</td>\n",
       "      <td>MOVIE</td>\n",
       "      <td>A mentally unstable Vietnam War veteran works ...</td>\n",
       "      <td>1976</td>\n",
       "      <td>R</td>\n",
       "      <td>114</td>\n",
       "      <td>['drama', 'crime']</td>\n",
       "      <td>['US']</td>\n",
       "      <td>tt0075314</td>\n",
       "      <td>8.2</td>\n",
       "      <td>808582.0</td>\n",
       "      <td>40.965</td>\n",
       "      <td>8.179</td>\n",
       "    </tr>\n",
       "    <tr>\n",
       "      <th>2</th>\n",
       "      <td>tm154986</td>\n",
       "      <td>Deliverance</td>\n",
       "      <td>MOVIE</td>\n",
       "      <td>Intent on seeing the Cahulawassee River before...</td>\n",
       "      <td>1972</td>\n",
       "      <td>R</td>\n",
       "      <td>109</td>\n",
       "      <td>['drama', 'action', 'thriller', 'european']</td>\n",
       "      <td>['US']</td>\n",
       "      <td>tt0068473</td>\n",
       "      <td>7.7</td>\n",
       "      <td>107673.0</td>\n",
       "      <td>10.010</td>\n",
       "      <td>7.300</td>\n",
       "    </tr>\n",
       "    <tr>\n",
       "      <th>3</th>\n",
       "      <td>tm127384</td>\n",
       "      <td>Monty Python and the Holy Grail</td>\n",
       "      <td>MOVIE</td>\n",
       "      <td>King Arthur, accompanied by his squire, recrui...</td>\n",
       "      <td>1975</td>\n",
       "      <td>PG</td>\n",
       "      <td>91</td>\n",
       "      <td>['fantasy', 'action', 'comedy']</td>\n",
       "      <td>['GB']</td>\n",
       "      <td>tt0071853</td>\n",
       "      <td>8.2</td>\n",
       "      <td>534486.0</td>\n",
       "      <td>15.461</td>\n",
       "      <td>7.811</td>\n",
       "    </tr>\n",
       "    <tr>\n",
       "      <th>4</th>\n",
       "      <td>tm120801</td>\n",
       "      <td>The Dirty Dozen</td>\n",
       "      <td>MOVIE</td>\n",
       "      <td>12 American military prisoners in World War II...</td>\n",
       "      <td>1967</td>\n",
       "      <td>NaN</td>\n",
       "      <td>150</td>\n",
       "      <td>['war', 'action']</td>\n",
       "      <td>['GB', 'US']</td>\n",
       "      <td>tt0061578</td>\n",
       "      <td>7.7</td>\n",
       "      <td>72662.0</td>\n",
       "      <td>20.398</td>\n",
       "      <td>7.600</td>\n",
       "    </tr>\n",
       "    <tr>\n",
       "      <th>6</th>\n",
       "      <td>tm70993</td>\n",
       "      <td>Life of Brian</td>\n",
       "      <td>MOVIE</td>\n",
       "      <td>Brian Cohen is an average young Jewish man, bu...</td>\n",
       "      <td>1979</td>\n",
       "      <td>R</td>\n",
       "      <td>94</td>\n",
       "      <td>['comedy']</td>\n",
       "      <td>['GB']</td>\n",
       "      <td>tt0079470</td>\n",
       "      <td>8.0</td>\n",
       "      <td>395024.0</td>\n",
       "      <td>17.770</td>\n",
       "      <td>7.800</td>\n",
       "    </tr>\n",
       "  </tbody>\n",
       "</table>\n",
       "</div>"
      ],
      "text/plain": [
       "         id                            title   type  \\\n",
       "1   tm84618                      Taxi Driver  MOVIE   \n",
       "2  tm154986                      Deliverance  MOVIE   \n",
       "3  tm127384  Monty Python and the Holy Grail  MOVIE   \n",
       "4  tm120801                  The Dirty Dozen  MOVIE   \n",
       "6   tm70993                    Life of Brian  MOVIE   \n",
       "\n",
       "                                         description  release_year  \\\n",
       "1  A mentally unstable Vietnam War veteran works ...          1976   \n",
       "2  Intent on seeing the Cahulawassee River before...          1972   \n",
       "3  King Arthur, accompanied by his squire, recrui...          1975   \n",
       "4  12 American military prisoners in World War II...          1967   \n",
       "6  Brian Cohen is an average young Jewish man, bu...          1979   \n",
       "\n",
       "  age_certification  runtime                                       genres  \\\n",
       "1                 R      114                           ['drama', 'crime']   \n",
       "2                 R      109  ['drama', 'action', 'thriller', 'european']   \n",
       "3                PG       91              ['fantasy', 'action', 'comedy']   \n",
       "4               NaN      150                            ['war', 'action']   \n",
       "6                 R       94                                   ['comedy']   \n",
       "\n",
       "  production_countries    imdb_id  imdb_score  imdb_votes  tmdb_popularity  \\\n",
       "1               ['US']  tt0075314         8.2    808582.0           40.965   \n",
       "2               ['US']  tt0068473         7.7    107673.0           10.010   \n",
       "3               ['GB']  tt0071853         8.2    534486.0           15.461   \n",
       "4         ['GB', 'US']  tt0061578         7.7     72662.0           20.398   \n",
       "6               ['GB']  tt0079470         8.0    395024.0           17.770   \n",
       "\n",
       "   tmdb_score  \n",
       "1       8.179  \n",
       "2       7.300  \n",
       "3       7.811  \n",
       "4       7.600  \n",
       "6       7.800  "
      ]
     },
     "execution_count": 13,
     "metadata": {},
     "output_type": "execute_result"
    }
   ],
   "source": [
    "movies.head()"
   ]
  },
  {
   "cell_type": "code",
   "execution_count": 14,
   "id": "f0a50917-5e63-462c-8aae-8b9da720925e",
   "metadata": {
    "tags": []
   },
   "outputs": [
    {
     "data": {
      "text/plain": [
       "id                      3271\n",
       "title                   3271\n",
       "type                    3271\n",
       "description             3270\n",
       "release_year            3271\n",
       "age_certification       1274\n",
       "runtime                 3271\n",
       "genres                  3271\n",
       "production_countries    3271\n",
       "imdb_id                 3271\n",
       "imdb_score              3271\n",
       "imdb_votes              3271\n",
       "tmdb_popularity         3271\n",
       "tmdb_score              3271\n",
       "dtype: int64"
      ]
     },
     "execution_count": 14,
     "metadata": {},
     "output_type": "execute_result"
    }
   ],
   "source": [
    "movies.count()"
   ]
  },
  {
   "cell_type": "markdown",
   "id": "99f9140e-e42b-4ea3-80a2-2fe346442553",
   "metadata": {
    "tags": []
   },
   "source": [
    "## Movie Data Exploration"
   ]
  },
  {
   "cell_type": "code",
   "execution_count": 17,
   "id": "08566732-0640-4bc7-93de-7efb7578e72c",
   "metadata": {
    "tags": []
   },
   "outputs": [
    {
     "data": {
      "image/png": "[encoded data removed]",
      "text/plain": [
       "<Figure size 800x800 with 2 Axes>"
      ]
     },
     "metadata": {},
     "output_type": "display_data"
    }
   ],
   "source": [
    "# Selecting only the movie variables\n",
    "movie_variables = ['runtime', 'imdb_score', 'imdb_votes', 'tmdb_popularity', 'tmdb_score']\n",
    "\n",
    "# Create a DataFrame with only the selected movie variables\n",
    "movies_subset = movies[movie_variables]\n",
    "\n",
    "# Create a correlation matrix\n",
    "correlation_matrix = movies_subset.corr()\n",
    "\n",
    "# Set up the matplotlib figure\n",
    "plt.figure(figsize=(8, 8))\n",
    "\n",
    "# Create a seaborn heatmap\n",
    "sns.heatmap(correlation_matrix, annot=True, cmap='coolwarm', fmt=\".2f\", linewidths=.5)\n",
    "\n",
    "# Display the plot\n",
    "plt.title('Correlation Heatmap for Movie Variables')\n",
    "plt.show()\n"
   ]
  },
  {
   "cell_type": "code",
   "execution_count": 18,
   "id": "e546eb36-b91b-4bd2-b188-938d7cdc8a6f",
   "metadata": {
    "tags": []
   },
   "outputs": [
    {
     "name": "stderr",
     "output_type": "stream",
     "text": [
      "/var/folders/k7/96j2v32x5hzd0cnmry5y_j100000gn/T/ipykernel_94658/2102984101.py:3: UserWarning: To output multiple subplots, the figure containing the passed axes is being cleared.\n",
      "  movies_subset.hist(ax = ax, color = 'maroon')\n"
     ]
    },
    {
     "data": {
      "image/png": "[encoded data removed]",
      "text/plain": [
       "<Figure size 1000x1000 with 6 Axes>"
      ]
     },
     "metadata": {},
     "output_type": "display_data"
    }
   ],
   "source": [
    "fig = plt.figure(figsize = (10, 10));\n",
    "ax = fig.gca();\n",
    "movies_subset.hist(ax = ax, color = 'maroon')\n",
    "pass"
   ]
  },
  {
   "cell_type": "markdown",
   "id": "85d03330-0eb3-4d18-b6c4-46909f756add",
   "metadata": {},
   "source": [
    "#### Since tmdb_score vs. imdb_score and imdb_votes vs. tmdb_popularity variables don't seem too distinct, let's just stick with tmdb_popularity and tmdb_score to rank top 30 movies. \n",
    "\n",
    "Referred to article to build a recommender system: https://medium.com/analytics-vidhya/simple-movie-recommender-system-with-correlation-coefficient-with-python-e6cb31dae01e\n"
   ]
  },
  {
   "cell_type": "code",
   "execution_count": 50,
   "id": "90ada5d0-b33b-4724-8307-be550ed2e4ee",
   "metadata": {
    "tags": []
   },
   "outputs": [
    {
     "data": {
      "text/plain": [
       "release_year       0.079535\n",
       "runtime            0.034940\n",
       "imdb_score        -0.044071\n",
       "imdb_votes         0.087236\n",
       "tmdb_popularity    1.000000\n",
       "tmdb_score         0.048501\n",
       "Name: tmdb_popularity, dtype: float64"
      ]
     },
     "execution_count": 50,
     "metadata": {},
     "output_type": "execute_result"
    }
   ],
   "source": [
    "movies_table = pd.pivot_table(movies,values='tmdb_score',columns='title',index='user_id')\n",
    "data_table.head()"
   ]
  },
  {
   "cell_type": "code",
   "execution_count": null,
   "id": "8650962a-97a3-46e0-8f18-0cad53f78460",
   "metadata": {},
   "outputs": [],
   "source": [
    "# Merge the correlation results with the original 'movies' DataFrame\n",
    "movies_correlation = pd.merge(movies, popularity_correlation, left_index=True, right_index=True)\n",
    "\n",
    "# Sort the movies based on the correlation with 'tmdb_popularity' in descending order\n",
    "top_30_movies = movies_correlation.sort_values(by='tmdb_popularity', ascending=False).head(20)\n",
    "\n",
    "# Display the top 20 movies with their titles and correlation values\n",
    "print(top_30_movies[['title', 'tmdb_popularity']])"
   ]
  },
  {
   "cell_type": "code",
   "execution_count": 48,
   "id": "2211f8c3-e162-4242-8ab8-c5ef53e87eae",
   "metadata": {
    "tags": []
   },
   "outputs": [
    {
     "name": "stdout",
     "output_type": "stream",
     "text": [
      "tmdb_score         1.000000\n",
      "imdb_score         0.614824\n",
      "imdb_votes         0.166031\n",
      "runtime            0.069091\n",
      "tmdb_popularity    0.048501\n",
      "release_year      -0.013586\n",
      "Name: tmdb_score, dtype: float64\n"
     ]
    }
   ],
   "source": [
    "# Display the top 20 movies based on correlation with 'tmdb_popularity'\n",
    "print(top_30_movies)"
   ]
  },
  {
   "cell_type": "code",
   "execution_count": 41,
   "id": "10780cf9-1488-4b12-8cde-2c05415cd5eb",
   "metadata": {
    "tags": []
   },
   "outputs": [],
   "source": [
    "# Years Released\n",
    "movies_pery = movies.release_year.value_counts()\n",
    "\n",
    "# transform object into df\n",
    "movies_pery = pd.DataFrame(movies_pery)"
   ]
  },
  {
   "cell_type": "code",
   "execution_count": 42,
   "id": "7f72f226-4320-4c66-9965-ff749bae90d6",
   "metadata": {
    "tags": []
   },
   "outputs": [],
   "source": [
    "movies_pery.rename(columns = {'release_year':'total_movies'}, inplace = True)"
   ]
  },
  {
   "cell_type": "code",
   "execution_count": 43,
   "id": "c9cc9f53-543b-409e-8864-20d1be6d7549",
   "metadata": {
    "tags": []
   },
   "outputs": [
    {
     "data": {
      "text/html": [
       "<div>\n",
       "<style scoped>\n",
       "    .dataframe tbody tr th:only-of-type {\n",
       "        vertical-align: middle;\n",
       "    }\n",
       "\n",
       "    .dataframe tbody tr th {\n",
       "        vertical-align: top;\n",
       "    }\n",
       "\n",
       "    .dataframe thead th {\n",
       "        text-align: right;\n",
       "    }\n",
       "</style>\n",
       "<table border=\"1\" class=\"dataframe\">\n",
       "  <thead>\n",
       "    <tr style=\"text-align: right;\">\n",
       "      <th></th>\n",
       "      <th>total_movies</th>\n",
       "    </tr>\n",
       "  </thead>\n",
       "  <tbody>\n",
       "    <tr>\n",
       "      <th>2019</th>\n",
       "      <td>440</td>\n",
       "    </tr>\n",
       "    <tr>\n",
       "      <th>2018</th>\n",
       "      <td>431</td>\n",
       "    </tr>\n",
       "    <tr>\n",
       "      <th>2021</th>\n",
       "      <td>396</td>\n",
       "    </tr>\n",
       "    <tr>\n",
       "      <th>2020</th>\n",
       "      <td>396</td>\n",
       "    </tr>\n",
       "    <tr>\n",
       "      <th>2017</th>\n",
       "      <td>355</td>\n",
       "    </tr>\n",
       "  </tbody>\n",
       "</table>\n",
       "</div>"
      ],
      "text/plain": [
       "      total_movies\n",
       "2019           440\n",
       "2018           431\n",
       "2021           396\n",
       "2020           396\n",
       "2017           355"
      ]
     },
     "execution_count": 43,
     "metadata": {},
     "output_type": "execute_result"
    }
   ],
   "source": [
    "movies_pery.head()"
   ]
  },
  {
   "cell_type": "code",
   "execution_count": 44,
   "id": "6040e1ae-2722-40c0-8887-5992c0287961",
   "metadata": {
    "tags": []
   },
   "outputs": [
    {
     "data": {
      "image/png": "[encoded data removed]",
      "text/plain": [
       "<Figure size 600x600 with 1 Axes>"
      ]
     },
     "metadata": {},
     "output_type": "display_data"
    }
   ],
   "source": [
    "plt.figure(figsize=(6, 6))\n",
    "sns.lineplot(data= movies_pery)\n",
    "plt.title('Netflix´s Movie release date (2017-2021)')\n",
    "plt.xlim(2000, 2021)\n",
    "plt.xlabel('Year released')\n",
    "plt.ylabel('Total Movies on Netflix')\n",
    "plt.show()"
   ]
  },
  {
   "cell_type": "code",
   "execution_count": 45,
   "id": "831f7860-b9c8-45ff-a056-8145c0471ae0",
   "metadata": {
    "tags": []
   },
   "outputs": [
    {
     "name": "stdout",
     "output_type": "stream",
     "text": [
      " Most Netflix´s shows were released on: [2019] with a total of 440 movies\n"
     ]
    }
   ],
   "source": [
    "max_movies = max(movies_pery.total_movies)\n",
    "\n",
    "# Year with max value\n",
    "#Find index with value: \n",
    "year_with_max_movies= movies_pery.index[movies_pery['total_movies'] == max_movies].tolist()\n",
    "\n",
    "#temporary print\n",
    "print (f' Most Netflix´s shows were released on: {year_with_max_movies} with a total of {max_movies} movies')"
   ]
  },
  {
   "cell_type": "code",
   "execution_count": 46,
   "id": "f5ac193e-d85e-49b5-b3b8-661626a9aa41",
   "metadata": {
    "tags": []
   },
   "outputs": [
    {
     "data": {
      "image/png": "[encoded data removed]",
      "text/plain": [
       "<Figure size 1000x600 with 1 Axes>"
      ]
     },
     "metadata": {},
     "output_type": "display_data"
    }
   ],
   "source": [
    "sns.set(style=\"whitegrid\")\n",
    "\n",
    "plt.figure(figsize=(10, 6))\n",
    "b_moviecert = sns.countplot(x='age_certification', data=movies, palette='viridis')\n",
    "\n",
    "#display count on each bar\n",
    "for p in b_moviecert.patches:\n",
    "    b_moviecert.annotate(f'{int(p.get_height())}', (p.get_x() + p.get_width() / 2., p.get_height()), ha='center', va='center', xytext=(0, 10), textcoords='offset points')\n",
    "\n",
    "\n",
    "# Add title and labels\n",
    "plt.title('Count of Movies by Age Certification')\n",
    "plt.xlabel('Age Certification')\n",
    "plt.ylabel('Count')\n",
    "\n",
    "# Display the plot\n",
    "plt.show()"
   ]
  },
  {
   "cell_type": "code",
   "execution_count": null,
   "id": "9c786d00-7755-457e-881f-3b75a9ac462f",
   "metadata": {
    "tags": []
   },
   "outputs": [],
   "source": [
    "sns.set(style=\"whitegrid\")\n",
    "\n",
    "plt.figure(figsize=(12, 6))\n",
    "boxplot_imdb_by_age = sns.boxplot(x='age_certification', y='imdb_score', data=movies, palette='viridis')\n",
    "\n",
    "# Add title and labels\n",
    "plt.title('Box Plot of IMDb Scores by Age Certification')\n",
    "plt.xlabel('Age Certification')\n",
    "plt.ylabel('IMDb Score')\n",
    "\n",
    "# Display the plot\n",
    "plt.show()"
   ]
  },
  {
   "cell_type": "code",
   "execution_count": null,
   "id": "f6124b63-54c1-40f4-b652-8b9e93201071",
   "metadata": {
    "tags": []
   },
   "outputs": [],
   "source": [
    "sns.set(style=\"whitegrid\")\n",
    "\n",
    "plt.figure(figsize=(12, 6))\n",
    "boxplot_imdb_by_age = sns.boxplot(x='age_certification', y='tmdb_score', data=movies, palette='viridis')\n",
    "\n",
    "# Add title and labels\n",
    "plt.title('Box Plot of IMDb Scores by Age Certification')\n",
    "plt.xlabel('Age Certification')\n",
    "plt.ylabel('IMDb Score')\n",
    "\n",
    "# Display the plot\n",
    "plt.show()"
   ]
  },
  {
   "cell_type": "code",
   "execution_count": null,
   "id": "1236754a-5103-48e4-97c8-c83653ffa3fd",
   "metadata": {
    "tags": []
   },
   "outputs": [],
   "source": [
    "sns.set(style=\"whitegrid\")\n",
    "\n",
    "plt.figure(figsize=(10, 6))\n",
    "b_movie_runtime = sns.countplot(x='runtime', data=movies, fill=True, palette='viridis')\n",
    "\n",
    "\n",
    "# Add title and labels\n",
    "plt.title('Count of Movies by Run Time')\n",
    "plt.xlabel('Run Time')\n",
    "plt.ylabel('Count')\n",
    "\n",
    "# Display the plot\n",
    "plt.show()"
   ]
  },
  {
   "cell_type": "code",
   "execution_count": null,
   "id": "01a4849f-157a-4c2e-8103-aaaf15a4f671",
   "metadata": {
    "tags": []
   },
   "outputs": [],
   "source": [
    "# Create bins for runtime to make the graph a bit more cohesive\n",
    "\n",
    "sns.set(style=\"whitegrid\")\n",
    "\n",
    "plt.figure(figsize=(10, 6))\n",
    "b_movie_runtime = sns.histplot(x='runtime', data=movies, bins=20, kde=True, palette='viridis')\n",
    "\n",
    "# Add title and labels\n",
    "plt.title('Distribution of Movie Runtimes with Trendline')\n",
    "plt.xlabel('Run Time')\n",
    "plt.ylabel('Count')\n",
    "\n",
    "# Display the plot\n",
    "plt.show()\n"
   ]
  },
  {
   "cell_type": "code",
   "execution_count": null,
   "id": "31a4689a-903c-4c2e-9671-351f247e446b",
   "metadata": {},
   "outputs": [],
   "source": []
  },
  {
   "cell_type": "code",
   "execution_count": null,
   "id": "0217858c-1690-4bde-902b-a09e406e7bb8",
   "metadata": {
    "tags": []
   },
   "outputs": [],
   "source": [
    "plt.figure(figsize=(10, 5))\n",
    "sns.scatterplot(x='runtime', y='imdb_score', data=movies)\n",
    "plt.title('Scatter plot of imdb Score by Run Time')\n",
    "plt.show()"
   ]
  },
  {
   "cell_type": "code",
   "execution_count": null,
   "id": "ce493421-f620-4169-b8e2-99bc86647cee",
   "metadata": {
    "tags": []
   },
   "outputs": [],
   "source": [
    "plt.figure(figsize=(10, 5))\n",
    "sns.scatterplot(x='runtime', y='tmdb_score', data=movies)\n",
    "plt.title('Scatter plot of tmdb Score by Run Time')\n",
    "plt.show()"
   ]
  },
  {
   "cell_type": "markdown",
   "id": "8ce9a96a-9042-4ad9-bd74-c8b7bc1f24ce",
   "metadata": {},
   "source": [
    "It seems like age_certification and runtime don't have the strongest correlation to a movie's imdb_score or tmdb_score."
   ]
  },
  {
   "cell_type": "markdown",
   "id": "ed11bffb-cfe4-487d-9f1f-b7589197094d",
   "metadata": {
    "tags": []
   },
   "source": [
    "#### Questions I'd like to answer that require more data cleaning/parsing:\n",
    "- What's the most common genre?\n",
    "- How does the movie's genre correlate with movie score and popularity?\n",
    "- What's the most common production countries for movies?\n",
    "- Which of the variables is the best predictor for high movie ratings? (Do we need to look into actors and producers from the credit tables?)"
   ]
  },
  {
   "cell_type": "code",
   "execution_count": null,
   "id": "d73468cb-1fcf-4fef-99cf-c498cdffb264",
   "metadata": {
    "tags": []
   },
   "outputs": [],
   "source": [
    "prod_country = movies.production_countries.unique()\n",
    "count_prod_country = movies.production_countries.nunique()\n",
    "count_prod_country\n",
    "\n",
    "# There's way too many unique production countries because there are multiple production companies. \n",
    "## We need a way to identify the main production country of a movie. "
   ]
  },
  {
   "cell_type": "code",
   "execution_count": null,
   "id": "842232f2-fc24-446b-afba-ca6c97c61024",
   "metadata": {
    "tags": []
   },
   "outputs": [],
   "source": [
    "# sns.set(style=\"whitegrid\")\n",
    "\n",
    "# plt.figure(figsize=(10, 6))\n",
    "# b_moviecountry = sns.countplot(x='production_countries', data=movies, palette='viridis')\n",
    "\n",
    "# #display count on each bar\n",
    "# for p in b_moviecountry.patches:\n",
    "#     b_moviecountry.annotate(f'{int(p.get_height())}', (p.get_x() + p.get_width() / 2., p.get_height()), ha='center', va='center', xytext=(0, 10), textcoords='offset points')\n",
    "\n",
    "# # \n",
    "# # Add title and labels\n",
    "# plt.title('Count of Movies by Production Country')\n",
    "# plt.xlabel('Production Country')\n",
    "# plt.ylabel('Count')\n",
    "\n",
    "# # Display the plot\n",
    "# plt.show()"
   ]
  },
  {
   "cell_type": "code",
   "execution_count": null,
   "id": "822bdaec-c4ff-416b-a62a-a26676e1411d",
   "metadata": {
    "tags": []
   },
   "outputs": [],
   "source": [
    "unique_genres = movies['genres'].unique()\n",
    "unique_genre_count = movies['genres'].nunique()\n",
    "\n",
    "print(unique_genres, unique_genre_count)"
   ]
  },
  {
   "cell_type": "code",
   "execution_count": null,
   "id": "7cf4048e-23f7-480e-81a0-61de3852854b",
   "metadata": {},
   "outputs": [],
   "source": []
  },
  {
   "cell_type": "markdown",
   "id": "a1c2216a-3e61-4a19-a3ff-5053e2fc6f88",
   "metadata": {},
   "source": [
    "# Credits"
   ]
  },
  {
   "cell_type": "code",
   "execution_count": null,
   "id": "da43783d-4420-4b05-ab74-5d973fe21eef",
   "metadata": {
    "tags": []
   },
   "outputs": [],
   "source": [
    "credits = pd.read_csv('../netflix/archive/credits.csv')"
   ]
  },
  {
   "cell_type": "code",
   "execution_count": null,
   "id": "75607487-0eb9-4889-b156-e3ea1a838d84",
   "metadata": {
    "tags": []
   },
   "outputs": [],
   "source": [
    "credits.head()"
   ]
  },
  {
   "cell_type": "code",
   "execution_count": null,
   "id": "c86f5229-0f37-4039-87d4-721e63245491",
   "metadata": {
    "tags": []
   },
   "outputs": [],
   "source": [
    "credits.info()"
   ]
  },
  {
   "cell_type": "code",
   "execution_count": null,
   "id": "1600e2ca-d0fe-43d3-b390-37f8c8e1de78",
   "metadata": {
    "tags": []
   },
   "outputs": [],
   "source": [
    "credits.duplicated().sum()\n",
    "# No duplicates"
   ]
  },
  {
   "cell_type": "code",
   "execution_count": null,
   "id": "96df5a5d-d1c6-4f7c-a3db-8b4aaf363057",
   "metadata": {
    "tags": []
   },
   "outputs": [],
   "source": [
    "role_types = credits['role'].unique()\n",
    "role_types"
   ]
  },
  {
   "cell_type": "markdown",
   "id": "3f9a3939-8868-4f11-847b-b81360dcb072",
   "metadata": {},
   "source": [
    "#### Create separate table for actors & directors."
   ]
  },
  {
   "cell_type": "code",
   "execution_count": null,
   "id": "44b0c213-86aa-4681-9ce5-4f8e74bd771a",
   "metadata": {
    "tags": []
   },
   "outputs": [],
   "source": [
    "actors = credits[credits['role'] == 'ACTOR']\n",
    "actors.head()"
   ]
  },
  {
   "cell_type": "code",
   "execution_count": null,
   "id": "466fb8b7-a1f3-41f7-92b7-3bf43d289fcd",
   "metadata": {
    "tags": []
   },
   "outputs": [],
   "source": [
    "actors.isnull().sum()"
   ]
  },
  {
   "cell_type": "code",
   "execution_count": null,
   "id": "a4dc3bc3-a97b-4b3a-b4a4-7426920414ff",
   "metadata": {
    "tags": []
   },
   "outputs": [],
   "source": [
    "director = credits[credits['role'] == 'DIRECTOR']\n",
    "director.head()"
   ]
  },
  {
   "cell_type": "code",
   "execution_count": null,
   "id": "23ff3764-1059-4eff-ad60-0dcdc0d8a340",
   "metadata": {
    "tags": []
   },
   "outputs": [],
   "source": [
    "director.isnull().sum()"
   ]
  },
  {
   "cell_type": "markdown",
   "id": "a6f2b07a-5546-460b-88e3-608a8b2ef817",
   "metadata": {},
   "source": [
    "There are null values for character name for actors and director, but it's not the most important information to have when determining popularity of a movie. "
   ]
  },
  {
   "cell_type": "markdown",
   "id": "d6c9ba52-851c-478b-8794-e33924481129",
   "metadata": {},
   "source": [
    "### Let's merge the tables to see if featured actors and directors have a correlation with popularity of the movie. "
   ]
  },
  {
   "cell_type": "code",
   "execution_count": null,
   "id": "dae88518-c9a6-404c-aadf-037608d73897",
   "metadata": {
    "tags": []
   },
   "outputs": [],
   "source": [
    "movie_actors = pd.merge(movies, actors, on='id', how='inner')\n",
    "\n",
    "movie_actors.head()"
   ]
  },
  {
   "cell_type": "code",
   "execution_count": null,
   "id": "f0646f8b-91b0-4cfe-98ae-7331addc4bdd",
   "metadata": {
    "tags": []
   },
   "outputs": [],
   "source": [
    "movie_actors = movie_actors['name'].nunique()\n",
    "movie_actors"
   ]
  },
  {
   "cell_type": "code",
   "execution_count": null,
   "id": "8f856069-b193-4fc3-b2a8-46c1eda69138",
   "metadata": {
    "tags": []
   },
   "outputs": [],
   "source": [
    "# Create a binary column indicating whether an actor is featured in a movie\n",
    "movie_actors['actor_featured'] = movie_actors['name'].notnull().astype(int)\n",
    "\n",
    "# Calculate the correlation coefficient between 'actor_featured' and 'tmdb_popularity'\n",
    "correlation = movie_actors['actor_featured'].corr(movie_actors['tmdb_popularity'])\n",
    "\n",
    "# Display the correlation coefficient\n",
    "print(f\"Correlation between actor presence and movie popularity: {correlation}\")"
   ]
  },
  {
   "cell_type": "code",
   "execution_count": null,
   "id": "eabdc943-605a-4159-bea5-9c3d56894d4b",
   "metadata": {},
   "outputs": [],
   "source": []
  }
 ],
 "metadata": {
  "kernelspec": {
   "display_name": "Python 3 (ipykernel)",
   "language": "python",
   "name": "python3"
  },
  "language_info": {
   "codemirror_mode": {
    "name": "ipython",
    "version": 3
   },
   "file_extension": ".py",
   "mimetype": "text/x-python",
   "name": "python",
   "nbconvert_exporter": "python",
   "pygments_lexer": "ipython3",
   "version": "3.11.4"
  }
 },
 "nbformat": 4,
 "nbformat_minor": 5
}
